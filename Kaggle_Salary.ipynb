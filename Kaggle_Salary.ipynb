{
  "nbformat": 4,
  "nbformat_minor": 0,
  "metadata": {
    "colab": {
      "name": "Copy of MIE1624 A1.ipynb",
      "provenance": [],
      "collapsed_sections": [
        "itzmHjvZrrus",
        "goPAsTTgNVEz"
      ]
    },
    "kernelspec": {
      "name": "python3",
      "display_name": "Python 3"
    },
    "accelerator": "TPU"
  },
  "cells": [
    {
      "cell_type": "code",
      "metadata": {
        "id": "3JZtJhczfvZ2",
        "colab_type": "code",
        "colab": {}
      },
      "source": [
        "# All the imports here\n",
        "import pandas as pd\n",
        "import numpy as np\n",
        "import matplotlib.pyplot as plt\n",
        "from sklearn.ensemble import RandomForestClassifier\n",
        "from sklearn import datasets\n",
        "from sklearn.preprocessing import MinMaxScaler\n",
        "from sklearn import linear_model\n",
        "from sklearn.linear_model import Lasso, LogisticRegression,LogisticRegressionCV\n",
        "from sklearn.model_selection import train_test_split,KFold\n",
        "from sklearn.metrics import mean_squared_error, accuracy_score,f1_score"
      ],
      "execution_count": null,
      "outputs": []
    },
    {
      "cell_type": "code",
      "metadata": {
        "id": "zL2xWsUSgKe2",
        "colab_type": "code",
        "colab": {
          "base_uri": "https://localhost:8080/",
          "height": 51
        },
        "outputId": "5901ecce-eb5f-44e7-c745-8e4f3d5c6db0"
      },
      "source": [
        "# Get the csv file\n",
        "df = pd.read_csv('Kaggle_Salary.csv')"
      ],
      "execution_count": null,
      "outputs": [
        {
          "output_type": "stream",
          "text": [
            "/usr/local/lib/python3.6/dist-packages/IPython/core/interactiveshell.py:2718: DtypeWarning: Columns (73,77,114,146,153,171,175,212,224,228,231) have mixed types. Specify dtype option on import or set low_memory=False.\n",
            "  interactivity=interactivity, compiler=compiler, result=result)\n"
          ],
          "name": "stderr"
        }
      ]
    },
    {
      "cell_type": "markdown",
      "metadata": {
        "id": "sRJbE_jAn73Q",
        "colab_type": "text"
      },
      "source": [
        "# 1.0 Data Cleaning and Exploratory"
      ]
    },
    {
      "cell_type": "code",
      "metadata": {
        "id": "uDPIrjwnh8UZ",
        "colab_type": "code",
        "colab": {
          "base_uri": "https://localhost:8080/",
          "height": 729
        },
        "outputId": "d07d9bf9-9832-4736-ac16-1db8d83a1e7e"
      },
      "source": [
        "df.head()"
      ],
      "execution_count": null,
      "outputs": [
        {
          "output_type": "execute_result",
          "data": {
            "text/html": [
              "<div>\n",
              "<style scoped>\n",
              "    .dataframe tbody tr th:only-of-type {\n",
              "        vertical-align: middle;\n",
              "    }\n",
              "\n",
              "    .dataframe tbody tr th {\n",
              "        vertical-align: top;\n",
              "    }\n",
              "\n",
              "    .dataframe thead th {\n",
              "        text-align: right;\n",
              "    }\n",
              "</style>\n",
              "<table border=\"1\" class=\"dataframe\">\n",
              "  <thead>\n",
              "    <tr style=\"text-align: right;\">\n",
              "      <th></th>\n",
              "      <th>Time from Start to Finish (seconds)</th>\n",
              "      <th>Q1</th>\n",
              "      <th>Q2</th>\n",
              "      <th>Q2_OTHER_TEXT</th>\n",
              "      <th>Q3</th>\n",
              "      <th>Q4</th>\n",
              "      <th>Q5</th>\n",
              "      <th>Q5_OTHER_TEXT</th>\n",
              "      <th>Q6</th>\n",
              "      <th>Q7</th>\n",
              "      <th>Q8</th>\n",
              "      <th>Q9_Part_1</th>\n",
              "      <th>Q9_Part_2</th>\n",
              "      <th>Q9_Part_3</th>\n",
              "      <th>Q9_Part_4</th>\n",
              "      <th>Q9_Part_5</th>\n",
              "      <th>Q9_Part_6</th>\n",
              "      <th>Q9_Part_7</th>\n",
              "      <th>Q9_Part_8</th>\n",
              "      <th>Q9_OTHER_TEXT</th>\n",
              "      <th>Q10</th>\n",
              "      <th>Q11</th>\n",
              "      <th>Q12_Part_1</th>\n",
              "      <th>Q12_Part_2</th>\n",
              "      <th>Q12_Part_3</th>\n",
              "      <th>Q12_Part_4</th>\n",
              "      <th>Q12_Part_5</th>\n",
              "      <th>Q12_Part_6</th>\n",
              "      <th>Q12_Part_7</th>\n",
              "      <th>Q12_Part_8</th>\n",
              "      <th>Q12_Part_9</th>\n",
              "      <th>Q12_Part_10</th>\n",
              "      <th>Q12_Part_11</th>\n",
              "      <th>Q12_Part_12</th>\n",
              "      <th>Q12_OTHER_TEXT</th>\n",
              "      <th>Q13_Part_1</th>\n",
              "      <th>Q13_Part_2</th>\n",
              "      <th>Q13_Part_3</th>\n",
              "      <th>Q13_Part_4</th>\n",
              "      <th>Q13_Part_5</th>\n",
              "      <th>...</th>\n",
              "      <th>Q32_Part_2</th>\n",
              "      <th>Q32_Part_3</th>\n",
              "      <th>Q32_Part_4</th>\n",
              "      <th>Q32_Part_5</th>\n",
              "      <th>Q32_Part_6</th>\n",
              "      <th>Q32_Part_7</th>\n",
              "      <th>Q32_Part_8</th>\n",
              "      <th>Q32_Part_9</th>\n",
              "      <th>Q32_Part_10</th>\n",
              "      <th>Q32_Part_11</th>\n",
              "      <th>Q32_Part_12</th>\n",
              "      <th>Q32_OTHER_TEXT</th>\n",
              "      <th>Q33_Part_1</th>\n",
              "      <th>Q33_Part_2</th>\n",
              "      <th>Q33_Part_3</th>\n",
              "      <th>Q33_Part_4</th>\n",
              "      <th>Q33_Part_5</th>\n",
              "      <th>Q33_Part_6</th>\n",
              "      <th>Q33_Part_7</th>\n",
              "      <th>Q33_Part_8</th>\n",
              "      <th>Q33_Part_9</th>\n",
              "      <th>Q33_Part_10</th>\n",
              "      <th>Q33_Part_11</th>\n",
              "      <th>Q33_Part_12</th>\n",
              "      <th>Q33_OTHER_TEXT</th>\n",
              "      <th>Q34_Part_1</th>\n",
              "      <th>Q34_Part_2</th>\n",
              "      <th>Q34_Part_3</th>\n",
              "      <th>Q34_Part_4</th>\n",
              "      <th>Q34_Part_5</th>\n",
              "      <th>Q34_Part_6</th>\n",
              "      <th>Q34_Part_7</th>\n",
              "      <th>Q34_Part_8</th>\n",
              "      <th>Q34_Part_9</th>\n",
              "      <th>Q34_Part_10</th>\n",
              "      <th>Q34_Part_11</th>\n",
              "      <th>Q34_Part_12</th>\n",
              "      <th>Q34_OTHER_TEXT</th>\n",
              "      <th>Q10_Encoded</th>\n",
              "      <th>Q10_buckets</th>\n",
              "    </tr>\n",
              "  </thead>\n",
              "  <tbody>\n",
              "    <tr>\n",
              "      <th>0</th>\n",
              "      <td>510</td>\n",
              "      <td>22-24</td>\n",
              "      <td>Male</td>\n",
              "      <td>-1</td>\n",
              "      <td>France</td>\n",
              "      <td>Master’s degree</td>\n",
              "      <td>Software Engineer</td>\n",
              "      <td>-1</td>\n",
              "      <td>1000-9,999 employees</td>\n",
              "      <td>0</td>\n",
              "      <td>I do not know</td>\n",
              "      <td>NaN</td>\n",
              "      <td>NaN</td>\n",
              "      <td>NaN</td>\n",
              "      <td>NaN</td>\n",
              "      <td>NaN</td>\n",
              "      <td>NaN</td>\n",
              "      <td>NaN</td>\n",
              "      <td>NaN</td>\n",
              "      <td>-1</td>\n",
              "      <td>30,000-39,999</td>\n",
              "      <td>$0 (USD)</td>\n",
              "      <td>Twitter (data science influencers)</td>\n",
              "      <td>NaN</td>\n",
              "      <td>NaN</td>\n",
              "      <td>Kaggle (forums, blog, social media, etc)</td>\n",
              "      <td>NaN</td>\n",
              "      <td>NaN</td>\n",
              "      <td>NaN</td>\n",
              "      <td>Blogs (Towards Data Science, Medium, Analytics...</td>\n",
              "      <td>Journal Publications (traditional publications...</td>\n",
              "      <td>NaN</td>\n",
              "      <td>NaN</td>\n",
              "      <td>NaN</td>\n",
              "      <td>-1</td>\n",
              "      <td>NaN</td>\n",
              "      <td>Coursera</td>\n",
              "      <td>NaN</td>\n",
              "      <td>DataCamp</td>\n",
              "      <td>NaN</td>\n",
              "      <td>...</td>\n",
              "      <td>NaN</td>\n",
              "      <td>NaN</td>\n",
              "      <td>NaN</td>\n",
              "      <td>NaN</td>\n",
              "      <td>NaN</td>\n",
              "      <td>NaN</td>\n",
              "      <td>NaN</td>\n",
              "      <td>NaN</td>\n",
              "      <td>NaN</td>\n",
              "      <td>NaN</td>\n",
              "      <td>NaN</td>\n",
              "      <td>-1</td>\n",
              "      <td>NaN</td>\n",
              "      <td>NaN</td>\n",
              "      <td>NaN</td>\n",
              "      <td>NaN</td>\n",
              "      <td>NaN</td>\n",
              "      <td>NaN</td>\n",
              "      <td>NaN</td>\n",
              "      <td>NaN</td>\n",
              "      <td>NaN</td>\n",
              "      <td>NaN</td>\n",
              "      <td>NaN</td>\n",
              "      <td>NaN</td>\n",
              "      <td>-1</td>\n",
              "      <td>NaN</td>\n",
              "      <td>NaN</td>\n",
              "      <td>NaN</td>\n",
              "      <td>NaN</td>\n",
              "      <td>NaN</td>\n",
              "      <td>NaN</td>\n",
              "      <td>NaN</td>\n",
              "      <td>NaN</td>\n",
              "      <td>NaN</td>\n",
              "      <td>NaN</td>\n",
              "      <td>NaN</td>\n",
              "      <td>NaN</td>\n",
              "      <td>-1</td>\n",
              "      <td>3</td>\n",
              "      <td>30,000-39,999</td>\n",
              "    </tr>\n",
              "    <tr>\n",
              "      <th>1</th>\n",
              "      <td>423</td>\n",
              "      <td>40-44</td>\n",
              "      <td>Male</td>\n",
              "      <td>-1</td>\n",
              "      <td>India</td>\n",
              "      <td>Professional degree</td>\n",
              "      <td>Software Engineer</td>\n",
              "      <td>-1</td>\n",
              "      <td>&gt; 10,000 employees</td>\n",
              "      <td>20+</td>\n",
              "      <td>We have well established ML methods (i.e., mod...</td>\n",
              "      <td>Analyze and understand data to influence produ...</td>\n",
              "      <td>Build and/or run the data infrastructure that ...</td>\n",
              "      <td>Build prototypes to explore applying machine l...</td>\n",
              "      <td>Build and/or run a machine learning service th...</td>\n",
              "      <td>NaN</td>\n",
              "      <td>NaN</td>\n",
              "      <td>NaN</td>\n",
              "      <td>NaN</td>\n",
              "      <td>-1</td>\n",
              "      <td>5,000-7,499</td>\n",
              "      <td>&gt; $100,000 ($USD)</td>\n",
              "      <td>NaN</td>\n",
              "      <td>NaN</td>\n",
              "      <td>NaN</td>\n",
              "      <td>Kaggle (forums, blog, social media, etc)</td>\n",
              "      <td>NaN</td>\n",
              "      <td>YouTube (Cloud AI Adventures, Siraj Raval, etc)</td>\n",
              "      <td>Podcasts (Chai Time Data Science, Linear Digre...</td>\n",
              "      <td>Blogs (Towards Data Science, Medium, Analytics...</td>\n",
              "      <td>NaN</td>\n",
              "      <td>NaN</td>\n",
              "      <td>NaN</td>\n",
              "      <td>NaN</td>\n",
              "      <td>-1</td>\n",
              "      <td>NaN</td>\n",
              "      <td>Coursera</td>\n",
              "      <td>NaN</td>\n",
              "      <td>DataCamp</td>\n",
              "      <td>NaN</td>\n",
              "      <td>...</td>\n",
              "      <td>NaN</td>\n",
              "      <td>NaN</td>\n",
              "      <td>NaN</td>\n",
              "      <td>NaN</td>\n",
              "      <td>NaN</td>\n",
              "      <td>NaN</td>\n",
              "      <td>NaN</td>\n",
              "      <td>NaN</td>\n",
              "      <td>NaN</td>\n",
              "      <td>NaN</td>\n",
              "      <td>NaN</td>\n",
              "      <td>-1</td>\n",
              "      <td>NaN</td>\n",
              "      <td>NaN</td>\n",
              "      <td>NaN</td>\n",
              "      <td>NaN</td>\n",
              "      <td>NaN</td>\n",
              "      <td>NaN</td>\n",
              "      <td>NaN</td>\n",
              "      <td>NaN</td>\n",
              "      <td>NaN</td>\n",
              "      <td>NaN</td>\n",
              "      <td>NaN</td>\n",
              "      <td>NaN</td>\n",
              "      <td>-1</td>\n",
              "      <td>NaN</td>\n",
              "      <td>NaN</td>\n",
              "      <td>NaN</td>\n",
              "      <td>NaN</td>\n",
              "      <td>NaN</td>\n",
              "      <td>NaN</td>\n",
              "      <td>NaN</td>\n",
              "      <td>NaN</td>\n",
              "      <td>NaN</td>\n",
              "      <td>NaN</td>\n",
              "      <td>NaN</td>\n",
              "      <td>NaN</td>\n",
              "      <td>-1</td>\n",
              "      <td>0</td>\n",
              "      <td>0-9,999</td>\n",
              "    </tr>\n",
              "    <tr>\n",
              "      <th>2</th>\n",
              "      <td>391</td>\n",
              "      <td>40-44</td>\n",
              "      <td>Male</td>\n",
              "      <td>-1</td>\n",
              "      <td>Australia</td>\n",
              "      <td>Master’s degree</td>\n",
              "      <td>Other</td>\n",
              "      <td>0</td>\n",
              "      <td>&gt; 10,000 employees</td>\n",
              "      <td>20+</td>\n",
              "      <td>I do not know</td>\n",
              "      <td>NaN</td>\n",
              "      <td>NaN</td>\n",
              "      <td>NaN</td>\n",
              "      <td>NaN</td>\n",
              "      <td>NaN</td>\n",
              "      <td>NaN</td>\n",
              "      <td>NaN</td>\n",
              "      <td>NaN</td>\n",
              "      <td>-1</td>\n",
              "      <td>250,000-299,999</td>\n",
              "      <td>$10,000-$99,999</td>\n",
              "      <td>NaN</td>\n",
              "      <td>NaN</td>\n",
              "      <td>NaN</td>\n",
              "      <td>NaN</td>\n",
              "      <td>NaN</td>\n",
              "      <td>NaN</td>\n",
              "      <td>Podcasts (Chai Time Data Science, Linear Digre...</td>\n",
              "      <td>Blogs (Towards Data Science, Medium, Analytics...</td>\n",
              "      <td>Journal Publications (traditional publications...</td>\n",
              "      <td>Slack Communities (ods.ai, kagglenoobs, etc)</td>\n",
              "      <td>NaN</td>\n",
              "      <td>NaN</td>\n",
              "      <td>-1</td>\n",
              "      <td>NaN</td>\n",
              "      <td>Coursera</td>\n",
              "      <td>edX</td>\n",
              "      <td>DataCamp</td>\n",
              "      <td>NaN</td>\n",
              "      <td>...</td>\n",
              "      <td>NaN</td>\n",
              "      <td>Azure Machine Learning Studio</td>\n",
              "      <td>NaN</td>\n",
              "      <td>NaN</td>\n",
              "      <td>NaN</td>\n",
              "      <td>NaN</td>\n",
              "      <td>NaN</td>\n",
              "      <td>NaN</td>\n",
              "      <td>NaN</td>\n",
              "      <td>NaN</td>\n",
              "      <td>NaN</td>\n",
              "      <td>-1</td>\n",
              "      <td>NaN</td>\n",
              "      <td>NaN</td>\n",
              "      <td>NaN</td>\n",
              "      <td>NaN</td>\n",
              "      <td>NaN</td>\n",
              "      <td>NaN</td>\n",
              "      <td>NaN</td>\n",
              "      <td>NaN</td>\n",
              "      <td>NaN</td>\n",
              "      <td>NaN</td>\n",
              "      <td>None</td>\n",
              "      <td>NaN</td>\n",
              "      <td>-1</td>\n",
              "      <td>NaN</td>\n",
              "      <td>NaN</td>\n",
              "      <td>NaN</td>\n",
              "      <td>NaN</td>\n",
              "      <td>NaN</td>\n",
              "      <td>NaN</td>\n",
              "      <td>NaN</td>\n",
              "      <td>NaN</td>\n",
              "      <td>Azure SQL Database</td>\n",
              "      <td>NaN</td>\n",
              "      <td>NaN</td>\n",
              "      <td>NaN</td>\n",
              "      <td>-1</td>\n",
              "      <td>14</td>\n",
              "      <td>&gt;250,000</td>\n",
              "    </tr>\n",
              "    <tr>\n",
              "      <th>3</th>\n",
              "      <td>392</td>\n",
              "      <td>22-24</td>\n",
              "      <td>Male</td>\n",
              "      <td>-1</td>\n",
              "      <td>India</td>\n",
              "      <td>Bachelor’s degree</td>\n",
              "      <td>Other</td>\n",
              "      <td>1</td>\n",
              "      <td>0-49 employees</td>\n",
              "      <td>0</td>\n",
              "      <td>No (we do not use ML methods)</td>\n",
              "      <td>NaN</td>\n",
              "      <td>NaN</td>\n",
              "      <td>NaN</td>\n",
              "      <td>NaN</td>\n",
              "      <td>NaN</td>\n",
              "      <td>NaN</td>\n",
              "      <td>NaN</td>\n",
              "      <td>NaN</td>\n",
              "      <td>-1</td>\n",
              "      <td>4,000-4,999</td>\n",
              "      <td>$0 (USD)</td>\n",
              "      <td>NaN</td>\n",
              "      <td>NaN</td>\n",
              "      <td>NaN</td>\n",
              "      <td>NaN</td>\n",
              "      <td>NaN</td>\n",
              "      <td>YouTube (Cloud AI Adventures, Siraj Raval, etc)</td>\n",
              "      <td>NaN</td>\n",
              "      <td>Blogs (Towards Data Science, Medium, Analytics...</td>\n",
              "      <td>NaN</td>\n",
              "      <td>NaN</td>\n",
              "      <td>NaN</td>\n",
              "      <td>Other</td>\n",
              "      <td>0</td>\n",
              "      <td>NaN</td>\n",
              "      <td>NaN</td>\n",
              "      <td>NaN</td>\n",
              "      <td>NaN</td>\n",
              "      <td>NaN</td>\n",
              "      <td>...</td>\n",
              "      <td>NaN</td>\n",
              "      <td>NaN</td>\n",
              "      <td>NaN</td>\n",
              "      <td>NaN</td>\n",
              "      <td>NaN</td>\n",
              "      <td>NaN</td>\n",
              "      <td>NaN</td>\n",
              "      <td>NaN</td>\n",
              "      <td>NaN</td>\n",
              "      <td>NaN</td>\n",
              "      <td>NaN</td>\n",
              "      <td>-1</td>\n",
              "      <td>NaN</td>\n",
              "      <td>NaN</td>\n",
              "      <td>NaN</td>\n",
              "      <td>NaN</td>\n",
              "      <td>NaN</td>\n",
              "      <td>NaN</td>\n",
              "      <td>NaN</td>\n",
              "      <td>NaN</td>\n",
              "      <td>NaN</td>\n",
              "      <td>NaN</td>\n",
              "      <td>NaN</td>\n",
              "      <td>NaN</td>\n",
              "      <td>-1</td>\n",
              "      <td>NaN</td>\n",
              "      <td>NaN</td>\n",
              "      <td>NaN</td>\n",
              "      <td>NaN</td>\n",
              "      <td>NaN</td>\n",
              "      <td>NaN</td>\n",
              "      <td>NaN</td>\n",
              "      <td>NaN</td>\n",
              "      <td>NaN</td>\n",
              "      <td>NaN</td>\n",
              "      <td>NaN</td>\n",
              "      <td>NaN</td>\n",
              "      <td>-1</td>\n",
              "      <td>0</td>\n",
              "      <td>0-9,999</td>\n",
              "    </tr>\n",
              "    <tr>\n",
              "      <th>4</th>\n",
              "      <td>470</td>\n",
              "      <td>50-54</td>\n",
              "      <td>Male</td>\n",
              "      <td>-1</td>\n",
              "      <td>France</td>\n",
              "      <td>Master’s degree</td>\n",
              "      <td>Data Scientist</td>\n",
              "      <td>-1</td>\n",
              "      <td>0-49 employees</td>\n",
              "      <td>3-4</td>\n",
              "      <td>We have well established ML methods (i.e., mod...</td>\n",
              "      <td>NaN</td>\n",
              "      <td>NaN</td>\n",
              "      <td>Build prototypes to explore applying machine l...</td>\n",
              "      <td>NaN</td>\n",
              "      <td>NaN</td>\n",
              "      <td>Do research that advances the state of the art...</td>\n",
              "      <td>NaN</td>\n",
              "      <td>NaN</td>\n",
              "      <td>-1</td>\n",
              "      <td>60,000-69,999</td>\n",
              "      <td>$10,000-$99,999</td>\n",
              "      <td>NaN</td>\n",
              "      <td>NaN</td>\n",
              "      <td>NaN</td>\n",
              "      <td>NaN</td>\n",
              "      <td>NaN</td>\n",
              "      <td>YouTube (Cloud AI Adventures, Siraj Raval, etc)</td>\n",
              "      <td>NaN</td>\n",
              "      <td>Blogs (Towards Data Science, Medium, Analytics...</td>\n",
              "      <td>Journal Publications (traditional publications...</td>\n",
              "      <td>NaN</td>\n",
              "      <td>NaN</td>\n",
              "      <td>NaN</td>\n",
              "      <td>-1</td>\n",
              "      <td>NaN</td>\n",
              "      <td>NaN</td>\n",
              "      <td>NaN</td>\n",
              "      <td>NaN</td>\n",
              "      <td>NaN</td>\n",
              "      <td>...</td>\n",
              "      <td>NaN</td>\n",
              "      <td>NaN</td>\n",
              "      <td>NaN</td>\n",
              "      <td>NaN</td>\n",
              "      <td>NaN</td>\n",
              "      <td>NaN</td>\n",
              "      <td>RapidMiner</td>\n",
              "      <td>NaN</td>\n",
              "      <td>NaN</td>\n",
              "      <td>NaN</td>\n",
              "      <td>NaN</td>\n",
              "      <td>-1</td>\n",
              "      <td>NaN</td>\n",
              "      <td>NaN</td>\n",
              "      <td>NaN</td>\n",
              "      <td>NaN</td>\n",
              "      <td>NaN</td>\n",
              "      <td>Auto-Keras</td>\n",
              "      <td>NaN</td>\n",
              "      <td>NaN</td>\n",
              "      <td>NaN</td>\n",
              "      <td>NaN</td>\n",
              "      <td>NaN</td>\n",
              "      <td>NaN</td>\n",
              "      <td>-1</td>\n",
              "      <td>NaN</td>\n",
              "      <td>PostgresSQL</td>\n",
              "      <td>NaN</td>\n",
              "      <td>NaN</td>\n",
              "      <td>NaN</td>\n",
              "      <td>NaN</td>\n",
              "      <td>AWS Relational Database Service</td>\n",
              "      <td>NaN</td>\n",
              "      <td>NaN</td>\n",
              "      <td>NaN</td>\n",
              "      <td>NaN</td>\n",
              "      <td>NaN</td>\n",
              "      <td>-1</td>\n",
              "      <td>6</td>\n",
              "      <td>60,000-69,999</td>\n",
              "    </tr>\n",
              "  </tbody>\n",
              "</table>\n",
              "<p>5 rows × 248 columns</p>\n",
              "</div>"
            ],
            "text/plain": [
              "   Time from Start to Finish (seconds)     Q1  ... Q10_Encoded    Q10_buckets\n",
              "0                                  510  22-24  ...           3  30,000-39,999\n",
              "1                                  423  40-44  ...           0        0-9,999\n",
              "2                                  391  40-44  ...          14       >250,000\n",
              "3                                  392  22-24  ...           0        0-9,999\n",
              "4                                  470  50-54  ...           6  60,000-69,999\n",
              "\n",
              "[5 rows x 248 columns]"
            ]
          },
          "metadata": {
            "tags": []
          },
          "execution_count": 3
        }
      ]
    },
    {
      "cell_type": "markdown",
      "metadata": {
        "id": "QHuabBmpRAMw",
        "colab_type": "text"
      },
      "source": [
        "##### By observing the original csv file, we found out that all the features involving \"Other_text\" are meaningless. The \"Q14_Part_X_TEXT\" is also meaningless since Q14 include all the answers. We'll get rid of all of them. "
      ]
    },
    {
      "cell_type": "code",
      "metadata": {
        "id": "xfSyz_cSgVK-",
        "colab_type": "code",
        "colab": {}
      },
      "source": [
        "num_cols = len(df.columns)\n",
        "Text = []\n",
        "for i in range (num_cols):\n",
        "  if 'TEXT' in df.columns[i]:\n",
        "     Text.append(i)\n",
        "df = df.drop(df.columns[Text], axis=1)"
      ],
      "execution_count": null,
      "outputs": []
    },
    {
      "cell_type": "markdown",
      "metadata": {
        "id": "v8KRx7lbRrSc",
        "colab_type": "text"
      },
      "source": [
        "### 1.1 Handling Missing Values"
      ]
    },
    {
      "cell_type": "markdown",
      "metadata": {
        "id": "Vd-gvR5rSNyK",
        "colab_type": "text"
      },
      "source": [
        "##### 1.1.1 Locate the Missing Values\n",
        "For the features involving \"Part\", values that appear “null” indicate that a survey respondent did not select that given option from a multiple-choice list. We should exclude thoes \"null\" when locating missing values."
      ]
    },
    {
      "cell_type": "code",
      "metadata": {
        "id": "BpJopJBGuCXC",
        "colab_type": "code",
        "colab": {
          "base_uri": "https://localhost:8080/",
          "height": 119
        },
        "outputId": "f356a75d-7be6-45ec-b2f2-af7efacb8df3"
      },
      "source": [
        "# Run through all the columns\n",
        "for i in range (len(df.columns)):\n",
        "  # Get the count of missing values for each columns\n",
        "  num_miss = df[df.columns[i]].isna().sum()\n",
        "  # Get the percentage of missing values for each columns\n",
        "  percent_miss = np.round(df[df.columns[i]].isna().sum()/len(df[df.columns[i]]) * 100,decimals = 2)\n",
        "  # Excluding the \"Part\" columns, print values for columns with missing values\n",
        "  if num_miss != 0 and 'Part' not in df.columns[i]:\n",
        "    print('the number of missing value for '+ str(df.columns[i]) + ' is ' + str(num_miss) + ' (' + str(percent_miss) + '%)')"
      ],
      "execution_count": null,
      "outputs": [
        {
          "output_type": "stream",
          "text": [
            "the number of missing value for Q11 is 247 (1.98%)\n",
            "the number of missing value for Q14 is 1045 (8.36%)\n",
            "the number of missing value for Q15 is 1075 (8.6%)\n",
            "the number of missing value for Q19 is 1844 (14.76%)\n",
            "the number of missing value for Q22 is 1947 (15.58%)\n",
            "the number of missing value for Q23 is 1956 (15.65%)\n"
          ],
          "name": "stdout"
        }
      ]
    },
    {
      "cell_type": "markdown",
      "metadata": {
        "id": "hs0bTCxhaft2",
        "colab_type": "text"
      },
      "source": [
        "##### 1.1.2 Handling Missing Values in \"Q11\"\n",
        "Feature \"Q11\" has a very small portion of missing values (only 1.98%). The question is about \"Approximately how much money have you spent on machine learning and/or cloud computing products at your work in the past 5 years\". From intuition we can say that people who did not answer the question just forgot how much they spent, therefore the missing compeletly random assumption holds. As a result, we can drop the entire observations for thoes who has missing values in Q11, and this will barely impact the overall analysis."
      ]
    },
    {
      "cell_type": "code",
      "metadata": {
        "id": "RwgkQV7Qciay",
        "colab_type": "code",
        "colab": {
          "base_uri": "https://localhost:8080/",
          "height": 34
        },
        "outputId": "e53b6c65-6d64-471b-c777-55d6d5a609bd"
      },
      "source": [
        "df = df.dropna(subset=['Q11'])\n",
        "df.shape"
      ],
      "execution_count": null,
      "outputs": [
        {
          "output_type": "execute_result",
          "data": {
            "text/plain": [
              "(12250, 220)"
            ]
          },
          "metadata": {
            "tags": []
          },
          "execution_count": 6
        }
      ]
    },
    {
      "cell_type": "markdown",
      "metadata": {
        "id": "IjJUdjXQlRV_",
        "colab_type": "text"
      },
      "source": [
        "##### 1.1.3 Handling Missing Values in \"Q14\"\n",
        "The topic of Q14 is \"What is the primary tool that you use at work or school to analyze data?\" People who did not answer this question probably use two or more tools and can't tell which one is primary. We can fill the missing values by mode. We assume those who skip this question uses the most wildely used tool. "
      ]
    },
    {
      "cell_type": "code",
      "metadata": {
        "id": "5fPllVE-HW8-",
        "colab_type": "code",
        "colab": {}
      },
      "source": [
        "df['Q14'] = df['Q14'].fillna(df['Q14'].mode()[0])"
      ],
      "execution_count": null,
      "outputs": []
    },
    {
      "cell_type": "markdown",
      "metadata": {
        "id": "G6S-rFz6ngel",
        "colab_type": "text"
      },
      "source": [
        "##### 1.1.4 Handling Missing Values in \"Q15\"\n",
        "The topic of Q15 is \"How long have you been writing code to analyze data (at work or at school)?\" People who skipped this question probably cound't remember when exactly they started coding. Therefore, we can fill in missing values by mean value after encoding Q15. "
      ]
    },
    {
      "cell_type": "code",
      "metadata": {
        "id": "mZm0r7pY7e3h",
        "colab_type": "code",
        "colab": {
          "base_uri": "https://localhost:8080/",
          "height": 153
        },
        "outputId": "f46b0586-741a-4aa0-abca-81fd2502eca3"
      },
      "source": [
        "df['Q15'].value_counts()"
      ],
      "execution_count": null,
      "outputs": [
        {
          "output_type": "execute_result",
          "data": {
            "text/plain": [
              "3-5 years                    2818\n",
              "1-2 years                    2713\n",
              "< 1 years                    2049\n",
              "5-10 years                   1749\n",
              "10-20 years                  1004\n",
              "I have never written code     552\n",
              "20+ years                     537\n",
              "Name: Q15, dtype: int64"
            ]
          },
          "metadata": {
            "tags": []
          },
          "execution_count": 8
        }
      ]
    },
    {
      "cell_type": "markdown",
      "metadata": {
        "id": "LhE8zQHKrOD6",
        "colab_type": "text"
      },
      "source": [
        "##### 1.1.5 Handling Missing Values in \"Q19\"\n",
        "Similar to Q14, Q19 ask for language recommended. People who skipped the question probably can't tell which language is the best. We can fill the missing values by mode. "
      ]
    },
    {
      "cell_type": "code",
      "metadata": {
        "id": "eTnVgnxnorzW",
        "colab_type": "code",
        "colab": {}
      },
      "source": [
        "df['Q19'] = df['Q19'].fillna(df['Q19'].mode()[0])"
      ],
      "execution_count": null,
      "outputs": []
    },
    {
      "cell_type": "markdown",
      "metadata": {
        "id": "75OB44YosN46",
        "colab_type": "text"
      },
      "source": [
        "##### 1.1.6 Handling Missing Values in \"Q22\"\n",
        "The topic of Q22 is \"Have you ever used a TPU?\". The similar question has already appeared in Q21 part 3 \"Which types of specialized hardware do you use on a regular basis?  (Select all that apply) - Selected Choice - TPUs\". Moreover, Q22 contains 15.58% portion of missing values, which is quite a lot. It's reasonable to drop the entire feature. "
      ]
    },
    {
      "cell_type": "code",
      "metadata": {
        "id": "yzPkRmtwulK2",
        "colab_type": "code",
        "colab": {
          "base_uri": "https://localhost:8080/",
          "height": 34
        },
        "outputId": "3e0c6250-c42a-41e9-9513-9c2d6e7ec921"
      },
      "source": [
        "df = df.drop(columns=['Q22'])\n",
        "df.shape"
      ],
      "execution_count": null,
      "outputs": [
        {
          "output_type": "execute_result",
          "data": {
            "text/plain": [
              "(12250, 219)"
            ]
          },
          "metadata": {
            "tags": []
          },
          "execution_count": 10
        }
      ]
    },
    {
      "cell_type": "markdown",
      "metadata": {
        "id": "x3mbO5KM54PJ",
        "colab_type": "text"
      },
      "source": [
        "##### 1.1.7 Handling Missing Values in \"Q23\"\n",
        "Similar to Q15, Q23 ask for how many years on machine learning. We also fill the missing values by mean after encoding. "
      ]
    },
    {
      "cell_type": "code",
      "metadata": {
        "id": "lt0khePVJtPx",
        "colab_type": "code",
        "colab": {
          "base_uri": "https://localhost:8080/",
          "height": 170
        },
        "outputId": "a5f0ede2-c3d4-479d-8760-ff0af041e954"
      },
      "source": [
        "df['Q23'].value_counts()"
      ],
      "execution_count": null,
      "outputs": [
        {
          "output_type": "execute_result",
          "data": {
            "text/plain": [
              "< 1 years      3068\n",
              "1-2 years      2727\n",
              "2-3 years      1569\n",
              "3-4 years       975\n",
              "4-5 years       863\n",
              "5-10 years      833\n",
              "10-15 years     330\n",
              "20+ years       176\n",
              "Name: Q23, dtype: int64"
            ]
          },
          "metadata": {
            "tags": []
          },
          "execution_count": 11
        }
      ]
    },
    {
      "cell_type": "markdown",
      "metadata": {
        "id": "r1WeSBGwgZJh",
        "colab_type": "text"
      },
      "source": [
        "### 1.2 Investigation of Trends in the Data"
      ]
    },
    {
      "cell_type": "markdown",
      "metadata": {
        "id": "hV9U361IgvNx",
        "colab_type": "text"
      },
      "source": [
        "##### 1.2.1 Age and Salary\n",
        "After plotting the relationship between Salary and Age, we can clearly see that salary increases with age. The average salary of older people is significantly higher than the average salary of younger people. We can confirm that age is an important feature in predicting salary. "
      ]
    },
    {
      "cell_type": "code",
      "metadata": {
        "id": "SuhwxH_WhJpV",
        "colab_type": "code",
        "colab": {
          "base_uri": "https://localhost:8080/",
          "height": 204
        },
        "outputId": "d5bc9786-a772-4835-adf8-ae87aa3cf49d"
      },
      "source": [
        "# Get the DataFrame of age and salary only\n",
        "Age = df[['Q1','Q10']]\n",
        "Age.head()"
      ],
      "execution_count": null,
      "outputs": [
        {
          "output_type": "execute_result",
          "data": {
            "text/html": [
              "<div>\n",
              "<style scoped>\n",
              "    .dataframe tbody tr th:only-of-type {\n",
              "        vertical-align: middle;\n",
              "    }\n",
              "\n",
              "    .dataframe tbody tr th {\n",
              "        vertical-align: top;\n",
              "    }\n",
              "\n",
              "    .dataframe thead th {\n",
              "        text-align: right;\n",
              "    }\n",
              "</style>\n",
              "<table border=\"1\" class=\"dataframe\">\n",
              "  <thead>\n",
              "    <tr style=\"text-align: right;\">\n",
              "      <th></th>\n",
              "      <th>Q1</th>\n",
              "      <th>Q10</th>\n",
              "    </tr>\n",
              "  </thead>\n",
              "  <tbody>\n",
              "    <tr>\n",
              "      <th>0</th>\n",
              "      <td>22-24</td>\n",
              "      <td>30,000-39,999</td>\n",
              "    </tr>\n",
              "    <tr>\n",
              "      <th>1</th>\n",
              "      <td>40-44</td>\n",
              "      <td>5,000-7,499</td>\n",
              "    </tr>\n",
              "    <tr>\n",
              "      <th>2</th>\n",
              "      <td>40-44</td>\n",
              "      <td>250,000-299,999</td>\n",
              "    </tr>\n",
              "    <tr>\n",
              "      <th>3</th>\n",
              "      <td>22-24</td>\n",
              "      <td>4,000-4,999</td>\n",
              "    </tr>\n",
              "    <tr>\n",
              "      <th>4</th>\n",
              "      <td>50-54</td>\n",
              "      <td>60,000-69,999</td>\n",
              "    </tr>\n",
              "  </tbody>\n",
              "</table>\n",
              "</div>"
            ],
            "text/plain": [
              "      Q1              Q10\n",
              "0  22-24    30,000-39,999\n",
              "1  40-44      5,000-7,499\n",
              "2  40-44  250,000-299,999\n",
              "3  22-24      4,000-4,999\n",
              "4  50-54    60,000-69,999"
            ]
          },
          "metadata": {
            "tags": []
          },
          "execution_count": 12
        }
      ]
    },
    {
      "cell_type": "code",
      "metadata": {
        "id": "a1viexoDjKkn",
        "colab_type": "code",
        "colab": {
          "base_uri": "https://localhost:8080/",
          "height": 51
        },
        "outputId": "af2bb5c0-35cf-4334-b0f5-56f7c35d90a0"
      },
      "source": [
        "Age['Q1'].unique()"
      ],
      "execution_count": null,
      "outputs": [
        {
          "output_type": "execute_result",
          "data": {
            "text/plain": [
              "array(['22-24', '40-44', '50-54', '55-59', '30-34', '18-21', '35-39',\n",
              "       '25-29', '45-49', '60-69', '70+'], dtype=object)"
            ]
          },
          "metadata": {
            "tags": []
          },
          "execution_count": 13
        }
      ]
    },
    {
      "cell_type": "code",
      "metadata": {
        "id": "qBKD0iXDjUTL",
        "colab_type": "code",
        "colab": {
          "base_uri": "https://localhost:8080/",
          "height": 136
        },
        "outputId": "dcaa364c-67ae-4705-bf2e-082dd9778ae5"
      },
      "source": [
        "Age['Q10'].unique()"
      ],
      "execution_count": null,
      "outputs": [
        {
          "output_type": "execute_result",
          "data": {
            "text/plain": [
              "array(['30,000-39,999', '5,000-7,499', '250,000-299,999', '4,000-4,999',\n",
              "       '60,000-69,999', '10,000-14,999', '80,000-89,999', '$0-999',\n",
              "       '2,000-2,999', '70,000-79,999', '90,000-99,999', '125,000-149,999',\n",
              "       '40,000-49,999', '20,000-24,999', '15,000-19,999',\n",
              "       '100,000-124,999', '7,500-9,999', '150,000-199,999',\n",
              "       '25,000-29,999', '3,000-3,999', '1,000-1,999', '200,000-249,999',\n",
              "       '50,000-59,999', '> $500,000', '300,000-500,000'], dtype=object)"
            ]
          },
          "metadata": {
            "tags": []
          },
          "execution_count": 14
        }
      ]
    },
    {
      "cell_type": "code",
      "metadata": {
        "id": "vqupFqwtjYu9",
        "colab_type": "code",
        "colab": {
          "base_uri": "https://localhost:8080/",
          "height": 119
        },
        "outputId": "9a7e2b46-2437-46d3-bad5-bf125adecefb"
      },
      "source": [
        "# Converting age buckets into numbers\n",
        "Age['Q1'] = Age['Q1'].map({'22-24':23,'40-44':42,'50-54':52,'55-59':57,'30-34':32,'18-21':20,'35-39':37,'25-29':27,'45-49':47,'60-69':65,'70+':70})"
      ],
      "execution_count": null,
      "outputs": [
        {
          "output_type": "stream",
          "text": [
            "/usr/local/lib/python3.6/dist-packages/ipykernel_launcher.py:1: SettingWithCopyWarning: \n",
            "A value is trying to be set on a copy of a slice from a DataFrame.\n",
            "Try using .loc[row_indexer,col_indexer] = value instead\n",
            "\n",
            "See the caveats in the documentation: http://pandas.pydata.org/pandas-docs/stable/user_guide/indexing.html#returning-a-view-versus-a-copy\n",
            "  \"\"\"Entry point for launching an IPython kernel.\n"
          ],
          "name": "stderr"
        }
      ]
    },
    {
      "cell_type": "code",
      "metadata": {
        "id": "RLWRdF8Ki5tj",
        "colab_type": "code",
        "colab": {
          "base_uri": "https://localhost:8080/",
          "height": 119
        },
        "outputId": "b88ccc21-9a9a-4e2b-d913-2eab167fea52"
      },
      "source": [
        "# Converting salary bucket into numbers\n",
        "Age['Q10'] = Age['Q10'].map({'$0-999': 1000, '1,000-1,999': 2000, '2,000-2,999': 3000, '3,000-3,999': 4000, '4,000-4,999': 5000, '5,000-7,499': 7500, '7,500-9,999': 10000, '10,000-14,999': 15000, '15,000-19,999': 20000, '20,000-24,999': 25000, '25,000-29,999': 30000, '30,000-39,999': 40000, '40,000-49,999': 50000, '50,000-59,999': 60000, '60,000-69,999': 70000,  '70,000-79,999': 80000, '80,000-89,999': 90000, '90,000-99,999': 100000, '100,000-124,999': 125000, '125,000-149,999': 150000, '150,000-199,999': 200000, '200,000-249,999': 250000, '250,000-299,999': 300000, '300,000-500,000': 400000, '> $500,000': 500000})"
      ],
      "execution_count": null,
      "outputs": [
        {
          "output_type": "stream",
          "text": [
            "/usr/local/lib/python3.6/dist-packages/ipykernel_launcher.py:1: SettingWithCopyWarning: \n",
            "A value is trying to be set on a copy of a slice from a DataFrame.\n",
            "Try using .loc[row_indexer,col_indexer] = value instead\n",
            "\n",
            "See the caveats in the documentation: http://pandas.pydata.org/pandas-docs/stable/user_guide/indexing.html#returning-a-view-versus-a-copy\n",
            "  \"\"\"Entry point for launching an IPython kernel.\n"
          ],
          "name": "stderr"
        }
      ]
    },
    {
      "cell_type": "code",
      "metadata": {
        "id": "O3eWe7sdjBc5",
        "colab_type": "code",
        "colab": {
          "base_uri": "https://localhost:8080/",
          "height": 204
        },
        "outputId": "9441d3c6-7e89-45a5-fb0b-3fcb07f548d4"
      },
      "source": [
        "Age.head()"
      ],
      "execution_count": null,
      "outputs": [
        {
          "output_type": "execute_result",
          "data": {
            "text/html": [
              "<div>\n",
              "<style scoped>\n",
              "    .dataframe tbody tr th:only-of-type {\n",
              "        vertical-align: middle;\n",
              "    }\n",
              "\n",
              "    .dataframe tbody tr th {\n",
              "        vertical-align: top;\n",
              "    }\n",
              "\n",
              "    .dataframe thead th {\n",
              "        text-align: right;\n",
              "    }\n",
              "</style>\n",
              "<table border=\"1\" class=\"dataframe\">\n",
              "  <thead>\n",
              "    <tr style=\"text-align: right;\">\n",
              "      <th></th>\n",
              "      <th>Q1</th>\n",
              "      <th>Q10</th>\n",
              "    </tr>\n",
              "  </thead>\n",
              "  <tbody>\n",
              "    <tr>\n",
              "      <th>0</th>\n",
              "      <td>23</td>\n",
              "      <td>40000</td>\n",
              "    </tr>\n",
              "    <tr>\n",
              "      <th>1</th>\n",
              "      <td>42</td>\n",
              "      <td>7500</td>\n",
              "    </tr>\n",
              "    <tr>\n",
              "      <th>2</th>\n",
              "      <td>42</td>\n",
              "      <td>300000</td>\n",
              "    </tr>\n",
              "    <tr>\n",
              "      <th>3</th>\n",
              "      <td>23</td>\n",
              "      <td>5000</td>\n",
              "    </tr>\n",
              "    <tr>\n",
              "      <th>4</th>\n",
              "      <td>52</td>\n",
              "      <td>70000</td>\n",
              "    </tr>\n",
              "  </tbody>\n",
              "</table>\n",
              "</div>"
            ],
            "text/plain": [
              "   Q1     Q10\n",
              "0  23   40000\n",
              "1  42    7500\n",
              "2  42  300000\n",
              "3  23    5000\n",
              "4  52   70000"
            ]
          },
          "metadata": {
            "tags": []
          },
          "execution_count": 17
        }
      ]
    },
    {
      "cell_type": "code",
      "metadata": {
        "id": "TUeGh5H8kbjA",
        "colab_type": "code",
        "colab": {
          "base_uri": "https://localhost:8080/",
          "height": 660
        },
        "outputId": "ffdc0b66-298b-4965-d0b4-04e768d1d655"
      },
      "source": [
        "salary_by_age = Age.groupby('Q1')\n",
        "plt.figure(figsize=(15,10))\n",
        "plt.xlabel('Age',fontsize=20)\n",
        "plt.ylabel('Salary',fontsize=20)\n",
        "plt.title('Salary vs Age',fontsize=30)\n",
        "plt.plot(salary_by_age.mean())"
      ],
      "execution_count": null,
      "outputs": [
        {
          "output_type": "execute_result",
          "data": {
            "text/plain": [
              "[<matplotlib.lines.Line2D at 0x7fed8b5175f8>]"
            ]
          },
          "metadata": {
            "tags": []
          },
          "execution_count": 18
        },
        {
          "output_type": "display_data",
          "data": {
            "image/png": "[encoded data removed]",
            "text/plain": [
              "<Figure size 1080x720 with 1 Axes>"
            ]
          },
          "metadata": {
            "tags": []
          }
        }
      ]
    },
    {
      "cell_type": "markdown",
      "metadata": {
        "id": "GOlSf27dpzFv",
        "colab_type": "text"
      },
      "source": [
        "##### 1.2.2 Gender and Salary\n",
        "We plot the histogram and boxplot of male's salary and female's salary. Although males are more than females, their salary distributions are similar. The histogram of salary have similar shape. Comparing the boxplots between male and female salary, we can see they have similar ranges and outliers. The mean salary of male is just slightly higher than female. We can conclude that gender is not a crucial feature when predicting salary.  "
      ]
    },
    {
      "cell_type": "code",
      "metadata": {
        "id": "upuRcaxiqEee",
        "colab_type": "code",
        "colab": {
          "base_uri": "https://localhost:8080/",
          "height": 102
        },
        "outputId": "0115f70e-d8c3-46cb-b8fd-e45d2d851a1c"
      },
      "source": [
        "# Get the DataFrame of gender and salary only\n",
        "gender = df[['Q2','Q10']]\n",
        "gender['Q2'].value_counts()"
      ],
      "execution_count": null,
      "outputs": [
        {
          "output_type": "execute_result",
          "data": {
            "text/plain": [
              "Male                       10285\n",
              "Female                      1773\n",
              "Prefer not to say            162\n",
              "Prefer to self-describe       30\n",
              "Name: Q2, dtype: int64"
            ]
          },
          "metadata": {
            "tags": []
          },
          "execution_count": 19
        }
      ]
    },
    {
      "cell_type": "code",
      "metadata": {
        "id": "xDWDqT0vqdY7",
        "colab_type": "code",
        "colab": {
          "base_uri": "https://localhost:8080/",
          "height": 119
        },
        "outputId": "c2f42391-9d3a-4111-a0f4-58f248e74cf3"
      },
      "source": [
        "# Converting salary bucket into numbers\n",
        "gender['Q10'] = gender['Q10'].map({'$0-999': 1000, '1,000-1,999': 2000, '2,000-2,999': 3000, '3,000-3,999': 4000, '4,000-4,999': 5000, '5,000-7,499': 7500, '7,500-9,999': 10000, '10,000-14,999': 15000, '15,000-19,999': 20000, '20,000-24,999': 25000, '25,000-29,999': 30000, '30,000-39,999': 40000, '40,000-49,999': 50000, '50,000-59,999': 60000, '60,000-69,999': 70000,  '70,000-79,999': 80000, '80,000-89,999': 90000, '90,000-99,999': 100000, '100,000-124,999': 125000, '125,000-149,999': 150000, '150,000-199,999': 200000, '200,000-249,999': 250000, '250,000-299,999': 300000, '300,000-500,000': 400000, '> $500,000': 500000})"
      ],
      "execution_count": null,
      "outputs": [
        {
          "output_type": "stream",
          "text": [
            "/usr/local/lib/python3.6/dist-packages/ipykernel_launcher.py:1: SettingWithCopyWarning: \n",
            "A value is trying to be set on a copy of a slice from a DataFrame.\n",
            "Try using .loc[row_indexer,col_indexer] = value instead\n",
            "\n",
            "See the caveats in the documentation: http://pandas.pydata.org/pandas-docs/stable/user_guide/indexing.html#returning-a-view-versus-a-copy\n",
            "  \"\"\"Entry point for launching an IPython kernel.\n"
          ],
          "name": "stderr"
        }
      ]
    },
    {
      "cell_type": "code",
      "metadata": {
        "id": "O7UcnIdttWMo",
        "colab_type": "code",
        "colab": {
          "base_uri": "https://localhost:8080/",
          "height": 944
        },
        "outputId": "81d69edd-a671-417b-da6c-dc975ce756fa"
      },
      "source": [
        "fig, ax = plt.subplots(nrows=2, ncols=2,figsize=(15,15))\n",
        "ax[0, 0].hist(gender[gender['Q2']=='Male']['Q10'])\n",
        "ax[0, 0].set(xlabel='Salary',ylabel='Counts',title='Histogram of Male Salary')\n",
        "ax[0, 1].hist(gender[gender['Q2']=='Female']['Q10'])\n",
        "ax[0, 1].set(xlabel='Salary',ylabel='Counts',title='Histogram of Female Salary')\n",
        "ax[1, 0].boxplot(gender[gender['Q2']=='Male']['Q10'])\n",
        "ax[1, 0].set(xlabel='Male',ylabel='Salary',title='Boxplot of Male Salary')\n",
        "ax[1, 1].boxplot(gender[gender['Q2']=='Female']['Q10'])\n",
        "ax[1, 1].set(xlabel='Female',ylabel='Salary',title='Boxplot of Female Salary')"
      ],
      "execution_count": null,
      "outputs": [
        {
          "output_type": "execute_result",
          "data": {
            "text/plain": [
              "[Text(0, 0.5, 'Salary'),\n",
              " Text(0.5, 0, 'Female'),\n",
              " Text(0.5, 1.0, 'Boxplot of Female Salary')]"
            ]
          },
          "metadata": {
            "tags": []
          },
          "execution_count": 21
        },
        {
          "output_type": "display_data",
          "data": {
            "image/png": "[encoded data removed]",
            "text/plain": [
              "<Figure size 1080x1080 with 4 Axes>"
            ]
          },
          "metadata": {
            "tags": []
          }
        }
      ]
    },
    {
      "cell_type": "markdown",
      "metadata": {
        "id": "joaTeoLGxKZ5",
        "colab_type": "text"
      },
      "source": [
        "##### 1.2.3 Country and Salary\n",
        "We catagorize country into \"Europe/North America Area\" and \"Other Area\" and compare the salary. From the histograms and boxplots, we can see the salary in Europe/North America is generally higher than other areas. The mean value and standard deviation of salary in Europe/North America area are higher than other areas. Therefore country is going to be an important feature when predicting salary. \n",
        "\n"
      ]
    },
    {
      "cell_type": "code",
      "metadata": {
        "id": "E9YCEo9FpDZ9",
        "colab_type": "code",
        "colab": {}
      },
      "source": [
        "# Get the DataFrame of country and salary only\n",
        "country = df[['Q3','Q10']]"
      ],
      "execution_count": null,
      "outputs": []
    },
    {
      "cell_type": "code",
      "metadata": {
        "id": "6vQzg2Ag5zYA",
        "colab_type": "code",
        "colab": {
          "base_uri": "https://localhost:8080/",
          "height": 238
        },
        "outputId": "dbcc37f3-ae5a-488f-f3a4-3cab9503f822"
      },
      "source": [
        "country['Q3'].unique()"
      ],
      "execution_count": null,
      "outputs": [
        {
          "output_type": "execute_result",
          "data": {
            "text/plain": [
              "array(['France', 'India', 'Australia', 'United States of America',\n",
              "       'Netherlands', 'Germany', 'Ireland', 'Russia', 'Greece', 'Ukraine',\n",
              "       'Pakistan', 'Japan', 'Other', 'Brazil', 'South Korea', 'Belarus',\n",
              "       'Nigeria', 'United Kingdom of Great Britain and Northern Ireland',\n",
              "       'Sweden', 'Mexico', 'Canada', 'Portugal', 'Poland', 'Indonesia',\n",
              "       'Italy', 'Czech Republic', 'Spain', 'Chile', 'Hong Kong (S.A.R.)',\n",
              "       'South Africa', 'Argentina', 'Turkey', 'Israel', 'Taiwan', 'Egypt',\n",
              "       'Morocco', 'Hungary', 'Colombia', 'Norway', 'Thailand',\n",
              "       'Switzerland', 'Viet Nam', 'Singapore', 'Bangladesh',\n",
              "       'Iran, Islamic Republic of...', 'Peru', 'Kenya', 'Romania',\n",
              "       'China', 'Belgium', 'Austria', 'Algeria', 'New Zealand', 'Tunisia',\n",
              "       'Philippines', 'Malaysia', 'Republic of Korea', 'Denmark',\n",
              "       'Saudi Arabia'], dtype=object)"
            ]
          },
          "metadata": {
            "tags": []
          },
          "execution_count": 23
        }
      ]
    },
    {
      "cell_type": "code",
      "metadata": {
        "id": "4HM-3eZLpCkR",
        "colab_type": "code",
        "colab": {
          "base_uri": "https://localhost:8080/",
          "height": 119
        },
        "outputId": "2adf9297-24e3-46d8-c27b-517072081721"
      },
      "source": [
        "# Converting salary bucket into numbers\n",
        "country['Q10'] = country['Q10'].map({'$0-999': 1000, '1,000-1,999': 2000, '2,000-2,999': 3000, '3,000-3,999': 4000, '4,000-4,999': 5000, '5,000-7,499': 7500, '7,500-9,999': 10000, '10,000-14,999': 15000, '15,000-19,999': 20000, '20,000-24,999': 25000, '25,000-29,999': 30000, '30,000-39,999': 40000, '40,000-49,999': 50000, '50,000-59,999': 60000, '60,000-69,999': 70000,  '70,000-79,999': 80000, '80,000-89,999': 90000, '90,000-99,999': 100000, '100,000-124,999': 125000, '125,000-149,999': 150000, '150,000-199,999': 200000, '200,000-249,999': 250000, '250,000-299,999': 300000, '300,000-500,000': 400000, '> $500,000': 500000})"
      ],
      "execution_count": null,
      "outputs": [
        {
          "output_type": "stream",
          "text": [
            "/usr/local/lib/python3.6/dist-packages/ipykernel_launcher.py:1: SettingWithCopyWarning: \n",
            "A value is trying to be set on a copy of a slice from a DataFrame.\n",
            "Try using .loc[row_indexer,col_indexer] = value instead\n",
            "\n",
            "See the caveats in the documentation: http://pandas.pydata.org/pandas-docs/stable/user_guide/indexing.html#returning-a-view-versus-a-copy\n",
            "  \"\"\"Entry point for launching an IPython kernel.\n"
          ],
          "name": "stderr"
        }
      ]
    },
    {
      "cell_type": "code",
      "metadata": {
        "id": "kqMS-peWyCHZ",
        "colab_type": "code",
        "colab": {
          "base_uri": "https://localhost:8080/",
          "height": 119
        },
        "outputId": "08a5d2da-bcb6-4252-91c1-aa679d82e73e"
      },
      "source": [
        "Other_Area = ['India','Pakistan','Japan','Other','Brazil','South Korea',\n",
        "              'Nigeria','Mexico','Indonesia','Chile', 'Hong Kong (S.A.R.)',\n",
        "               'South Africa', 'Argentina','Israel', 'Taiwan', 'Egypt',\n",
        "                'Morocco','Colombia','Thailand','Viet Nam', 'Singapore', \n",
        "              'Bangladesh','Iran, Islamic Republic of...', 'Peru', 'Kenya',\n",
        "              'China','Algeria', 'New Zealand', 'Tunisia''Philippines',\n",
        "              'Malaysia', 'Republic of Korea','Saudi Arabia']\n",
        "country_list = list(country['Q3'])\n",
        "for i in range (len(country_list)):\n",
        "  if country_list[i] in Other_Area:\n",
        "    country_list[i] = 'Other_Area'\n",
        "  else:\n",
        "    country_list[i] = 'Europe_NorthAmerica'\n",
        "country['Q3'] = country_list"
      ],
      "execution_count": null,
      "outputs": [
        {
          "output_type": "stream",
          "text": [
            "/usr/local/lib/python3.6/dist-packages/ipykernel_launcher.py:14: SettingWithCopyWarning: \n",
            "A value is trying to be set on a copy of a slice from a DataFrame.\n",
            "Try using .loc[row_indexer,col_indexer] = value instead\n",
            "\n",
            "See the caveats in the documentation: http://pandas.pydata.org/pandas-docs/stable/user_guide/indexing.html#returning-a-view-versus-a-copy\n",
            "  \n"
          ],
          "name": "stderr"
        }
      ]
    },
    {
      "cell_type": "code",
      "metadata": {
        "id": "yOwddqCMqDeH",
        "colab_type": "code",
        "colab": {
          "base_uri": "https://localhost:8080/",
          "height": 68
        },
        "outputId": "a32acd4a-9ea1-48ed-f48a-235268b4457d"
      },
      "source": [
        "country['Q3'].value_counts()"
      ],
      "execution_count": null,
      "outputs": [
        {
          "output_type": "execute_result",
          "data": {
            "text/plain": [
              "Other_Area             6455\n",
              "Europe_NorthAmerica    5795\n",
              "Name: Q3, dtype: int64"
            ]
          },
          "metadata": {
            "tags": []
          },
          "execution_count": 26
        }
      ]
    },
    {
      "cell_type": "code",
      "metadata": {
        "id": "cq-8Fn20q4dS",
        "colab_type": "code",
        "colab": {
          "base_uri": "https://localhost:8080/",
          "height": 945
        },
        "outputId": "68867f5e-eab9-4eef-c87c-ee3bfb37e0a7"
      },
      "source": [
        "fig, ax = plt.subplots(nrows=2, ncols=2,figsize=(15,15))\n",
        "ax[0, 0].hist(country[country['Q3']=='Other_Area']['Q10'])\n",
        "ax[0, 0].set(xlabel='Salary',ylabel='Counts',title='Histogram of Other_Area Salary')\n",
        "ax[0, 1].hist(country[country['Q3']=='Europe_NorthAmerica']['Q10'])\n",
        "ax[0, 1].set(xlabel='Salary',ylabel='Counts',title='Histogram of Europe_NorthAmerica Salary')\n",
        "ax[1, 0].boxplot(country[country['Q3']=='Other_Area']['Q10'])\n",
        "ax[1, 0].set(xlabel='Other_Area',ylabel='Salary',title='Boxplot of Other_Area Salary')\n",
        "ax[1, 1].boxplot(country[country['Q3']=='Europe_NorthAmerica']['Q10'])\n",
        "ax[1, 1].set(xlabel='Europe_NorthAmerica',ylabel='Salary',title='Boxplot of Europe_NorthAmerica Salary')"
      ],
      "execution_count": null,
      "outputs": [
        {
          "output_type": "execute_result",
          "data": {
            "text/plain": [
              "[Text(0, 0.5, 'Salary'),\n",
              " Text(0.5, 0, 'Europe_NorthAmerica'),\n",
              " Text(0.5, 1.0, 'Boxplot of Europe_NorthAmerica Salary')]"
            ]
          },
          "metadata": {
            "tags": []
          },
          "execution_count": 27
        },
        {
          "output_type": "display_data",
          "data": {
            "image/png": "[encoded data removed]",
            "text/plain": [
              "<Figure size 1080x1080 with 4 Axes>"
            ]
          },
          "metadata": {
            "tags": []
          }
        }
      ]
    },
    {
      "cell_type": "markdown",
      "metadata": {
        "id": "itzmHjvZrrus",
        "colab_type": "text"
      },
      "source": [
        "### 1.3 Encoding\n",
        "Ordinal encoding and one-hot encoding are used. For features which contains ranges (i.e. 3-5 years), we encode them by the mean values of the range and round to the upper integers. For catagorical features which we can say some inputs are better than other inputs (i.e. Doctoral better than Master), we also use ordinal encoding. The largest value is assigned to the best input. For features cannot diffrentiate which input is better (i.e. Python or Java), we use one-hot encoding. "
      ]
    },
    {
      "cell_type": "markdown",
      "metadata": {
        "id": "5wXsClnAryAF",
        "colab_type": "text"
      },
      "source": [
        "##### 1.3.1 Encoding Q1\n",
        "Use the mean value of the given range, round to upper integers to encode the buckets. "
      ]
    },
    {
      "cell_type": "code",
      "metadata": {
        "id": "MYQAY2_WsXw3",
        "colab_type": "code",
        "colab": {
          "base_uri": "https://localhost:8080/",
          "height": 51
        },
        "outputId": "7178e2a0-b287-4101-86d3-40f071aa2d11"
      },
      "source": [
        "df['Q1'].unique()"
      ],
      "execution_count": null,
      "outputs": [
        {
          "output_type": "execute_result",
          "data": {
            "text/plain": [
              "array(['22-24', '40-44', '50-54', '55-59', '30-34', '18-21', '35-39',\n",
              "       '25-29', '45-49', '60-69', '70+'], dtype=object)"
            ]
          },
          "metadata": {
            "tags": []
          },
          "execution_count": 28
        }
      ]
    },
    {
      "cell_type": "code",
      "metadata": {
        "id": "ia4hPgG6sdod",
        "colab_type": "code",
        "colab": {}
      },
      "source": [
        "df['Q1'] = df['Q1'].map({'22-24':23,'40-44':42,'50-54':52,'55-59':57,'30-34':32,'18-21':20,'35-39':37,'25-29':27,'45-49':47,'60-69':65,'70+':70})"
      ],
      "execution_count": null,
      "outputs": []
    },
    {
      "cell_type": "markdown",
      "metadata": {
        "id": "QSMKRBDztsq8",
        "colab_type": "text"
      },
      "source": [
        "##### 1.3.2 Encoding Q2\n",
        "Use One-hot encoding"
      ]
    },
    {
      "cell_type": "code",
      "metadata": {
        "id": "FJENacltuW_Z",
        "colab_type": "code",
        "colab": {
          "base_uri": "https://localhost:8080/",
          "height": 51
        },
        "outputId": "e6ca06cc-145e-4a57-fcec-5859fbfbde8a"
      },
      "source": [
        "df['Q2'].unique()"
      ],
      "execution_count": null,
      "outputs": [
        {
          "output_type": "execute_result",
          "data": {
            "text/plain": [
              "array(['Male', 'Female', 'Prefer to self-describe', 'Prefer not to say'],\n",
              "      dtype=object)"
            ]
          },
          "metadata": {
            "tags": []
          },
          "execution_count": 30
        }
      ]
    },
    {
      "cell_type": "code",
      "metadata": {
        "id": "FPWXs0ztt2-y",
        "colab_type": "code",
        "colab": {}
      },
      "source": [
        "Q2_list = list(df['Q2'])\n",
        "Q2_Male = []\n",
        "Q2_Female = []\n",
        "Q2_Unknown = []\n",
        "for i in range (len(Q2_list)):\n",
        "  if Q2_list[i] == 'Male':\n",
        "    Q2_Male.append(1)\n",
        "  else:\n",
        "    Q2_Male.append(0)\n",
        "  if Q2_list[i] == 'Female':\n",
        "    Q2_Female.append(1)\n",
        "  else:\n",
        "    Q2_Female.append(0)\n",
        "  if Q2_list[i] != 'Male' and Q2_list[i] != 'Female':\n",
        "    Q2_Unknown.append(1)\n",
        "  else:\n",
        "    Q2_Unknown.append(0)"
      ],
      "execution_count": null,
      "outputs": []
    },
    {
      "cell_type": "code",
      "metadata": {
        "id": "Wd-UgYL8vD47",
        "colab_type": "code",
        "colab": {}
      },
      "source": [
        "df = df.drop(columns=['Q2'])"
      ],
      "execution_count": null,
      "outputs": []
    },
    {
      "cell_type": "code",
      "metadata": {
        "id": "GRZIEMd5v1-7",
        "colab_type": "code",
        "colab": {}
      },
      "source": [
        "df.insert(2,'Q2_Male',Q2_Male)\n",
        "df.insert(3,'Q2_Female',Q2_Female)\n",
        "df.insert(4,'Q2_Unknown',Q2_Unknown)"
      ],
      "execution_count": null,
      "outputs": []
    },
    {
      "cell_type": "markdown",
      "metadata": {
        "id": "QRea1hT0w7HR",
        "colab_type": "text"
      },
      "source": [
        "##### 1.3.3 Encoding Q3\n",
        "Use Ordinal (Binary encoding): 1 for Europe/North America areas, 0 for other areas. "
      ]
    },
    {
      "cell_type": "code",
      "metadata": {
        "id": "u_JPN-irwJ02",
        "colab_type": "code",
        "colab": {}
      },
      "source": [
        "encoding_Q3 = []\n",
        "for i in range (len(country_list)):\n",
        "  if country_list[i] == 'Other_Area':\n",
        "    encoding_Q3.append(0)\n",
        "  else:\n",
        "    encoding_Q3.append(1)"
      ],
      "execution_count": null,
      "outputs": []
    },
    {
      "cell_type": "code",
      "metadata": {
        "id": "aQWiZK94xUI9",
        "colab_type": "code",
        "colab": {}
      },
      "source": [
        "df['Q3'] = encoding_Q3"
      ],
      "execution_count": null,
      "outputs": []
    },
    {
      "cell_type": "markdown",
      "metadata": {
        "id": "qS1Pc0uQyLSt",
        "colab_type": "text"
      },
      "source": [
        "##### 1.3.4 Encoding Q4\n",
        "Use Ordinal encoding: 4 for Doctoral; 3 for Master; 2 for Bachelor; 1 for Some college/university study without earning a bachelor’s degree AND professional degree; 0 for No formal education past high school. Use the average of 2 for prefer not to answer."
      ]
    },
    {
      "cell_type": "code",
      "metadata": {
        "id": "X1G0x89PyuEb",
        "colab_type": "code",
        "colab": {
          "base_uri": "https://localhost:8080/",
          "height": 102
        },
        "outputId": "5061dbcc-6fea-4f8f-f00f-ba3f57f96443"
      },
      "source": [
        "df['Q4'].unique()"
      ],
      "execution_count": null,
      "outputs": [
        {
          "output_type": "execute_result",
          "data": {
            "text/plain": [
              "array(['Master’s degree', 'Professional degree', 'Bachelor’s degree',\n",
              "       'Doctoral degree',\n",
              "       'Some college/university study without earning a bachelor’s degree',\n",
              "       'I prefer not to answer', 'No formal education past high school'],\n",
              "      dtype=object)"
            ]
          },
          "metadata": {
            "tags": []
          },
          "execution_count": 36
        }
      ]
    },
    {
      "cell_type": "code",
      "metadata": {
        "id": "37DV_Njz0kuW",
        "colab_type": "code",
        "colab": {}
      },
      "source": [
        "list_Q4 = list(df['Q4'])\n",
        "for i in range (len(list_Q4)):\n",
        "  if list_Q4[i] == 'Doctoral degree':\n",
        "    list_Q4[i] = 4\n",
        "  elif list_Q4[i] == 'Master’s degree':\n",
        "    list_Q4[i] = 3\n",
        "  elif list_Q4[i] == 'Bachelor’s degree':\n",
        "    list_Q4[i] = 2\n",
        "  elif list_Q4[i] == 'Professional degree' or list_Q4[i] == 'Some college/university study without earning a bachelor’s degree':\n",
        "    list_Q4[i] = 1\n",
        "  elif list_Q4[i] == 'I prefer not to answer':\n",
        "    list_Q4[i] = 2\n",
        "  else:\n",
        "    list_Q4[i] = 0"
      ],
      "execution_count": null,
      "outputs": []
    },
    {
      "cell_type": "code",
      "metadata": {
        "id": "vt6IXyIm2GIm",
        "colab_type": "code",
        "colab": {}
      },
      "source": [
        "df['Q4'] = list_Q4"
      ],
      "execution_count": null,
      "outputs": []
    },
    {
      "cell_type": "markdown",
      "metadata": {
        "id": "eHELpiTo2mcS",
        "colab_type": "text"
      },
      "source": [
        "##### 1.3.5 Encoding Q5\n",
        "Use One-hot encoding"
      ]
    },
    {
      "cell_type": "code",
      "metadata": {
        "id": "N8W9KOh42tEC",
        "colab_type": "code",
        "colab": {
          "base_uri": "https://localhost:8080/",
          "height": 85
        },
        "outputId": "df33c036-7d0e-4c44-a3b9-50729ccb2cd4"
      },
      "source": [
        "df['Q5'].unique()"
      ],
      "execution_count": null,
      "outputs": [
        {
          "output_type": "execute_result",
          "data": {
            "text/plain": [
              "array(['Software Engineer', 'Other', 'Data Scientist', 'Statistician',\n",
              "       'Product/Project Manager', 'Data Analyst', 'Research Scientist',\n",
              "       'Business Analyst', 'Data Engineer', 'DBA/Database Engineer'],\n",
              "      dtype=object)"
            ]
          },
          "metadata": {
            "tags": []
          },
          "execution_count": 39
        }
      ]
    },
    {
      "cell_type": "code",
      "metadata": {
        "id": "tN58jY462_O2",
        "colab_type": "code",
        "colab": {}
      },
      "source": [
        "roles = df['Q5'].unique()\n",
        "Q5_list = list(df['Q5'])\n",
        "Q5_Part = [[],[],[],[],[],[],[],[],[],[]]\n",
        "for i in range (len(Q5_list)):\n",
        "  for j in range (len(roles)):\n",
        "    if Q5_list[i] == roles[j]:\n",
        "      Q5_Part[j].append(1)\n",
        "    else:\n",
        "      Q5_Part[j].append(0)"
      ],
      "execution_count": null,
      "outputs": []
    },
    {
      "cell_type": "code",
      "metadata": {
        "id": "6sVPKLok5K3e",
        "colab_type": "code",
        "colab": {}
      },
      "source": [
        "df = df.drop(columns=['Q5'])"
      ],
      "execution_count": null,
      "outputs": []
    },
    {
      "cell_type": "code",
      "metadata": {
        "id": "gP_JTFXS5ViT",
        "colab_type": "code",
        "colab": {}
      },
      "source": [
        "for i in range (7,7+len(Q5_Part)):\n",
        "  df.insert(i,'Q5_'+str(roles[i-7]),Q5_Part[i-7])"
      ],
      "execution_count": null,
      "outputs": []
    },
    {
      "cell_type": "markdown",
      "metadata": {
        "id": "FyIAgfz06ugh",
        "colab_type": "text"
      },
      "source": [
        "##### 1.3.6 Encoding Q6\n",
        "Use the mean values rounding to upper integer to encode Q6"
      ]
    },
    {
      "cell_type": "code",
      "metadata": {
        "id": "yi4LFzn-64by",
        "colab_type": "code",
        "colab": {
          "base_uri": "https://localhost:8080/",
          "height": 51
        },
        "outputId": "6646b38a-843a-4686-8331-82781f814de9"
      },
      "source": [
        "df['Q6'].unique()"
      ],
      "execution_count": null,
      "outputs": [
        {
          "output_type": "execute_result",
          "data": {
            "text/plain": [
              "array(['1000-9,999 employees', '> 10,000 employees', '0-49 employees',\n",
              "       '50-249 employees', '250-999 employees'], dtype=object)"
            ]
          },
          "metadata": {
            "tags": []
          },
          "execution_count": 43
        }
      ]
    },
    {
      "cell_type": "code",
      "metadata": {
        "id": "9pVoG8RO6-dC",
        "colab_type": "code",
        "colab": {}
      },
      "source": [
        "df['Q6'] = df['Q6'].map({'1000-9,999 employees':5000,'> 10,000 employees':10000,'0-49 employees':25,\n",
        "                          '50-249 employees':150,'250-999 employees':625})\n"
      ],
      "execution_count": null,
      "outputs": []
    },
    {
      "cell_type": "markdown",
      "metadata": {
        "id": "PUw3fZY89JXW",
        "colab_type": "text"
      },
      "source": [
        "##### 1.3.7 Encodoing Q7\n",
        "Use the mean values rounding to upper integer to encode Q7"
      ]
    },
    {
      "cell_type": "code",
      "metadata": {
        "id": "2kx5IpF89PHr",
        "colab_type": "code",
        "colab": {
          "base_uri": "https://localhost:8080/",
          "height": 34
        },
        "outputId": "5b120d70-e180-4620-a2dc-71d046fbeba5"
      },
      "source": [
        "df['Q7'].unique()"
      ],
      "execution_count": null,
      "outputs": [
        {
          "output_type": "execute_result",
          "data": {
            "text/plain": [
              "array(['0', '20+', '3-4', '1-2', '5-9', '10-14', '15-19'], dtype=object)"
            ]
          },
          "metadata": {
            "tags": []
          },
          "execution_count": 45
        }
      ]
    },
    {
      "cell_type": "code",
      "metadata": {
        "id": "FsUBFAPD9Svw",
        "colab_type": "code",
        "colab": {}
      },
      "source": [
        "df['Q7'] = df['Q7'].map({'0':0,'20+':20,'3-4':4,'1-2':2,'5-9':7,'10-14':12,'15-19':17})\n"
      ],
      "execution_count": null,
      "outputs": []
    },
    {
      "cell_type": "markdown",
      "metadata": {
        "id": "UsG9vo3A98la",
        "colab_type": "text"
      },
      "source": [
        "##### 1.3.8 Encoding Q8\n",
        "Use ordinal encoding: 0 for No; 1 for 'insight'; 2 for 'exploring'; 3 for 'recently started'; 4 for 'Well established', average of 2 for 'don't know'"
      ]
    },
    {
      "cell_type": "code",
      "metadata": {
        "id": "TP0xDWmy-BDm",
        "colab_type": "code",
        "colab": {
          "base_uri": "https://localhost:8080/",
          "height": 136
        },
        "outputId": "64d7bcc3-6812-46aa-f918-0827ca16be2a"
      },
      "source": [
        "df['Q8'].unique()"
      ],
      "execution_count": null,
      "outputs": [
        {
          "output_type": "execute_result",
          "data": {
            "text/plain": [
              "array(['I do not know',\n",
              "       'We have well established ML methods (i.e., models in production for more than 2 years)',\n",
              "       'No (we do not use ML methods)',\n",
              "       'We are exploring ML methods (and may one day put a model into production)',\n",
              "       'We recently started using ML methods (i.e., models in production for less than 2 years)',\n",
              "       'We use ML methods for generating insights (but do not put working models into production)'],\n",
              "      dtype=object)"
            ]
          },
          "metadata": {
            "tags": []
          },
          "execution_count": 47
        }
      ]
    },
    {
      "cell_type": "code",
      "metadata": {
        "id": "awK3NnNy-Wl3",
        "colab_type": "code",
        "colab": {}
      },
      "source": [
        "df['Q8'] = df['Q8'].map({'I do not know':2,\n",
        "                         'We have well established ML methods (i.e., models in production for more than 2 years)':4,\n",
        "                         'No (we do not use ML methods)':0,\n",
        "                         'We are exploring ML methods (and may one day put a model into production)':2,\n",
        "                         'We recently started using ML methods (i.e., models in production for less than 2 years)':3,\n",
        "                         'We use ML methods for generating insights (but do not put working models into production)':1})"
      ],
      "execution_count": null,
      "outputs": []
    },
    {
      "cell_type": "markdown",
      "metadata": {
        "id": "RAYnI3OdAmg3",
        "colab_type": "text"
      },
      "source": [
        "##### 1.3.9 Encoding Q11\n",
        "Use the mean values rounding to upper integer to encode Q11"
      ]
    },
    {
      "cell_type": "code",
      "metadata": {
        "id": "1HgCbba9AqIW",
        "colab_type": "code",
        "colab": {
          "base_uri": "https://localhost:8080/",
          "height": 51
        },
        "outputId": "11f15e8e-e94e-4244-f0c1-ab0fd90b9bcd"
      },
      "source": [
        "df['Q11'].unique()"
      ],
      "execution_count": null,
      "outputs": [
        {
          "output_type": "execute_result",
          "data": {
            "text/plain": [
              "array(['$0 (USD)', '> $100,000 ($USD)', '$10,000-$99,999', '$100-$999',\n",
              "       '$1000-$9,999', '$1-$99'], dtype=object)"
            ]
          },
          "metadata": {
            "tags": []
          },
          "execution_count": 49
        }
      ]
    },
    {
      "cell_type": "code",
      "metadata": {
        "id": "WfNqf8JNAtAw",
        "colab_type": "code",
        "colab": {}
      },
      "source": [
        "df['Q11'] = df['Q11'].map({'$0 (USD)':0,\n",
        "                           '> $100,000 ($USD)':100000,\n",
        "                           '$10,000-$99,999':55000,\n",
        "                           '$100-$999':550,\n",
        "                           '$1000-$9,999':5500,\n",
        "                           '$1-$99':50})"
      ],
      "execution_count": null,
      "outputs": []
    },
    {
      "cell_type": "markdown",
      "metadata": {
        "id": "gTiOULDqFQmM",
        "colab_type": "text"
      },
      "source": [
        "##### 1.3.10 Encoding Q14\n",
        "Use one-hot encoding"
      ]
    },
    {
      "cell_type": "code",
      "metadata": {
        "id": "woq0jlBQFU3g",
        "colab_type": "code",
        "colab": {
          "base_uri": "https://localhost:8080/",
          "height": 119
        },
        "outputId": "0ce16a22-2017-4d5f-a3bf-fc019f7fcc38"
      },
      "source": [
        "df['Q14'].unique()"
      ],
      "execution_count": null,
      "outputs": [
        {
          "output_type": "execute_result",
          "data": {
            "text/plain": [
              "array(['Basic statistical software (Microsoft Excel, Google Sheets, etc.)',\n",
              "       'Cloud-based data software & APIs (AWS, GCP, Azure, etc.)',\n",
              "       'Local development environments (RStudio, JupyterLab, etc.)',\n",
              "       'Advanced statistical software (SPSS, SAS, etc.)', 'Other',\n",
              "       'Business intelligence software (Salesforce, Tableau, Spotfire, etc.)'],\n",
              "      dtype=object)"
            ]
          },
          "metadata": {
            "tags": []
          },
          "execution_count": 51
        }
      ]
    },
    {
      "cell_type": "code",
      "metadata": {
        "id": "Cs3AVOiLJRHp",
        "colab_type": "code",
        "colab": {
          "base_uri": "https://localhost:8080/",
          "height": 34
        },
        "outputId": "47b8c721-8a1e-46b3-cfb7-db7b5f2b7901"
      },
      "source": [
        "df.columns.get_loc('Q14')"
      ],
      "execution_count": null,
      "outputs": [
        {
          "output_type": "execute_result",
          "data": {
            "text/plain": [
              "54"
            ]
          },
          "metadata": {
            "tags": []
          },
          "execution_count": 52
        }
      ]
    },
    {
      "cell_type": "code",
      "metadata": {
        "id": "tyQyZxdtIy_h",
        "colab_type": "code",
        "colab": {}
      },
      "source": [
        "tools = df['Q14'].unique()\n",
        "Q14_list = list(df['Q14'])\n",
        "Q14_Part = [[],[],[],[],[],[]]\n",
        "for i in range (len(Q14_list)):\n",
        "  for j in range (len(tools)):\n",
        "    if Q14_list[i] == tools[j]:\n",
        "      Q14_Part[j].append(1)\n",
        "    else:\n",
        "      Q14_Part[j].append(0)"
      ],
      "execution_count": null,
      "outputs": []
    },
    {
      "cell_type": "code",
      "metadata": {
        "id": "ehEluj-ZJykT",
        "colab_type": "code",
        "colab": {}
      },
      "source": [
        "df = df.drop(columns=['Q14'])\n",
        "for i in range (54,54+len(Q14_Part)):\n",
        "  df.insert(i,'Q14_'+str(tools[i-54]),Q14_Part[i-54])"
      ],
      "execution_count": null,
      "outputs": []
    },
    {
      "cell_type": "markdown",
      "metadata": {
        "id": "0w3fhziaKloV",
        "colab_type": "text"
      },
      "source": [
        "1.3.11 Encoding Q15\n",
        "Use the mean values rounding to upper integer to encode Q15"
      ]
    },
    {
      "cell_type": "code",
      "metadata": {
        "id": "nFhA1bbBHrgu",
        "colab_type": "code",
        "colab": {
          "base_uri": "https://localhost:8080/",
          "height": 51
        },
        "outputId": "110891f8-2f1c-48ac-85c3-9a3e56c12638"
      },
      "source": [
        "df['Q15'].unique()"
      ],
      "execution_count": null,
      "outputs": [
        {
          "output_type": "execute_result",
          "data": {
            "text/plain": [
              "array(['1-2 years', 'I have never written code', '< 1 years', '20+ years',\n",
              "       '3-5 years', '5-10 years', '10-20 years', nan], dtype=object)"
            ]
          },
          "metadata": {
            "tags": []
          },
          "execution_count": 55
        }
      ]
    },
    {
      "cell_type": "code",
      "metadata": {
        "id": "ahK6bo_IHuhF",
        "colab_type": "code",
        "colab": {}
      },
      "source": [
        "df['Q15'] = df['Q15'].map({'1-2 years':2,\n",
        "                           'I have never written code':0,\n",
        "                           '< 1 years':1,\n",
        "                           '20+ years':20,\n",
        "                           '3-5 years':4,\n",
        "                           '5-10 years':8,\n",
        "                           '10-20 years':15})"
      ],
      "execution_count": null,
      "outputs": []
    },
    {
      "cell_type": "code",
      "metadata": {
        "id": "yUpDSh3PILGK",
        "colab_type": "code",
        "colab": {
          "base_uri": "https://localhost:8080/",
          "height": 221
        },
        "outputId": "f5aa895b-1d2d-43ea-d4ab-fdadb1fafb78"
      },
      "source": [
        "df['Q15']"
      ],
      "execution_count": null,
      "outputs": [
        {
          "output_type": "execute_result",
          "data": {
            "text/plain": [
              "0         2.0\n",
              "1         0.0\n",
              "2         2.0\n",
              "3         1.0\n",
              "4        20.0\n",
              "         ... \n",
              "12490     NaN\n",
              "12491     NaN\n",
              "12492     NaN\n",
              "12494     2.0\n",
              "12496     4.0\n",
              "Name: Q15, Length: 12250, dtype: float64"
            ]
          },
          "metadata": {
            "tags": []
          },
          "execution_count": 57
        }
      ]
    },
    {
      "cell_type": "code",
      "metadata": {
        "id": "o0dnML1RIXjo",
        "colab_type": "code",
        "colab": {}
      },
      "source": [
        "df['Q15'] = df['Q15'].fillna(int(df['Q15'].mean()))"
      ],
      "execution_count": null,
      "outputs": []
    },
    {
      "cell_type": "markdown",
      "metadata": {
        "id": "pCxdwYimI920",
        "colab_type": "text"
      },
      "source": [
        "##### 1.3.12 Encoding Q19\n",
        "Use one-hot encoding"
      ]
    },
    {
      "cell_type": "code",
      "metadata": {
        "id": "ucjmkTPCJCMU",
        "colab_type": "code",
        "colab": {
          "base_uri": "https://localhost:8080/",
          "height": 51
        },
        "outputId": "ed795aef-92dc-4340-9ae5-813fe841dc32"
      },
      "source": [
        "df['Q19'].unique()"
      ],
      "execution_count": null,
      "outputs": [
        {
          "output_type": "execute_result",
          "data": {
            "text/plain": [
              "array(['Python', 'Java', 'R', 'SQL', 'C++', 'None', 'Other', 'C',\n",
              "       'MATLAB', 'TypeScript', 'Javascript', 'Bash'], dtype=object)"
            ]
          },
          "metadata": {
            "tags": []
          },
          "execution_count": 59
        }
      ]
    },
    {
      "cell_type": "code",
      "metadata": {
        "id": "_fMFh6hbJS3f",
        "colab_type": "code",
        "colab": {
          "base_uri": "https://localhost:8080/",
          "height": 34
        },
        "outputId": "2959cc2e-73c5-4fe2-f082-11be532b0e26"
      },
      "source": [
        "df.columns.get_loc('Q19')"
      ],
      "execution_count": null,
      "outputs": [
        {
          "output_type": "execute_result",
          "data": {
            "text/plain": [
              "97"
            ]
          },
          "metadata": {
            "tags": []
          },
          "execution_count": 60
        }
      ]
    },
    {
      "cell_type": "code",
      "metadata": {
        "id": "oFAQkO6qJYgT",
        "colab_type": "code",
        "colab": {}
      },
      "source": [
        "language = df['Q19'].unique()\n",
        "Q19_list = list(df['Q19'])\n",
        "Q19_Part = [[],[],[],[],[],[],[],[],[],[],[],[]]\n",
        "for i in range (len(Q19_list)):\n",
        "  for j in range (len(language)):\n",
        "    if Q19_list[i] == language[j]:\n",
        "      Q19_Part[j].append(1)\n",
        "    else:\n",
        "      Q19_Part[j].append(0)"
      ],
      "execution_count": null,
      "outputs": []
    },
    {
      "cell_type": "code",
      "metadata": {
        "id": "SVmJPuUuJpe9",
        "colab_type": "code",
        "colab": {}
      },
      "source": [
        "df = df.drop(columns=['Q19'])\n",
        "for i in range (97,97+len(Q19_Part)):\n",
        "  df.insert(i,'Q19_'+str(language[i-97]),Q19_Part[i-97])"
      ],
      "execution_count": null,
      "outputs": []
    },
    {
      "cell_type": "markdown",
      "metadata": {
        "id": "ti-rbfYQKN6k",
        "colab_type": "text"
      },
      "source": [
        "##### 1.3.13 Encoding Q23\n",
        "Use the mean values rounding to upper integer to encode Q23"
      ]
    },
    {
      "cell_type": "code",
      "metadata": {
        "id": "tbKObqoLKTEb",
        "colab_type": "code",
        "colab": {
          "base_uri": "https://localhost:8080/",
          "height": 51
        },
        "outputId": "609291fe-93b8-4062-9852-64248c839368"
      },
      "source": [
        "df['Q23'].unique()"
      ],
      "execution_count": null,
      "outputs": [
        {
          "output_type": "execute_result",
          "data": {
            "text/plain": [
              "array(['1-2 years', nan, '2-3 years', '< 1 years', '10-15 years',\n",
              "       '3-4 years', '4-5 years', '5-10 years', '20+ years'], dtype=object)"
            ]
          },
          "metadata": {
            "tags": []
          },
          "execution_count": 63
        }
      ]
    },
    {
      "cell_type": "code",
      "metadata": {
        "id": "r6qZYvGtKZWN",
        "colab_type": "code",
        "colab": {}
      },
      "source": [
        "df['Q23'] = df['Q23'].map({'1-2 years':2,\n",
        "                           '2-3 years':3,\n",
        "                           '< 1 years':1,\n",
        "                           '10-15 years':13,\n",
        "                           '3-4 years':4,\n",
        "                           '4-5 years':5,\n",
        "                           '5-10 years':8,\n",
        "                           '20+ years':20})"
      ],
      "execution_count": null,
      "outputs": []
    },
    {
      "cell_type": "code",
      "metadata": {
        "id": "dsqlY4DMKvtR",
        "colab_type": "code",
        "colab": {}
      },
      "source": [
        "df['Q23'] = df['Q23'].fillna(int(df['Q23'].mean()))"
      ],
      "execution_count": null,
      "outputs": []
    },
    {
      "cell_type": "markdown",
      "metadata": {
        "id": "qEH6iT03PVBC",
        "colab_type": "text"
      },
      "source": [
        "##### 1.3.14 Encoding All Multiple Choice Questions\n",
        "1 for entries, 0 for Nan"
      ]
    },
    {
      "cell_type": "code",
      "metadata": {
        "id": "U_80YVbjLqQ9",
        "colab_type": "code",
        "colab": {}
      },
      "source": [
        "# drop Q10\n",
        "df = df.drop(columns=['Q10'])"
      ],
      "execution_count": null,
      "outputs": []
    },
    {
      "cell_type": "code",
      "metadata": {
        "id": "9A2FsIp7XtrR",
        "colab_type": "code",
        "colab": {}
      },
      "source": [
        "for i in range (len(df.columns)):\n",
        "  if 'Part' in df.columns[i]:\n",
        "    df[df.columns[i]] = df[df.columns[i]].fillna(0)"
      ],
      "execution_count": null,
      "outputs": []
    },
    {
      "cell_type": "code",
      "metadata": {
        "id": "Zq5u_wR1b0PS",
        "colab_type": "code",
        "colab": {}
      },
      "source": [
        "for i in range (len(df.columns)):\n",
        "  if 'Part' in df.columns[i]:\n",
        "    if df[df.columns[i]].unique()[0] != 0:\n",
        "      entry = df[df.columns[i]].unique()[0]\n",
        "    else:\n",
        "      entry = df[df.columns[i]].unique()[1]\n",
        "    df[df.columns[i]] = df[df.columns[i]].replace(to_replace =entry, \n",
        "                 value =1)"
      ],
      "execution_count": null,
      "outputs": []
    },
    {
      "cell_type": "markdown",
      "metadata": {
        "id": "goPAsTTgNVEz",
        "colab_type": "text"
      },
      "source": [
        "### 1.4 Feature Importance\n",
        "Use random forest to evaluate feature importance. "
      ]
    },
    {
      "cell_type": "markdown",
      "metadata": {
        "id": "utxtk_-ABCNe",
        "colab_type": "text"
      },
      "source": [
        "##### 1.4.1 Train Model"
      ]
    },
    {
      "cell_type": "code",
      "metadata": {
        "id": "aCA23VgSNYUZ",
        "colab_type": "code",
        "colab": {}
      },
      "source": [
        "X = df.iloc[:,0:-2]\n",
        "X_std = MinMaxScaler().fit_transform(X)\n",
        "y = df.iloc[:,-2]\n",
        "# Create decision tree classifer object\n",
        "clf = RandomForestClassifier(random_state=0, n_jobs=-1)\n",
        "\n",
        "# Train model\n",
        "model = clf.fit(X_std, y)"
      ],
      "execution_count": null,
      "outputs": []
    },
    {
      "cell_type": "code",
      "metadata": {
        "id": "K-Ux5N49fZV7",
        "colab_type": "code",
        "colab": {}
      },
      "source": [
        "# Calculate feature importances\n",
        "importances = model.feature_importances_"
      ],
      "execution_count": null,
      "outputs": []
    },
    {
      "cell_type": "markdown",
      "metadata": {
        "id": "Gh5WDkDoBKny",
        "colab_type": "text"
      },
      "source": [
        "##### 1.4.2 Visualize Feature Importance"
      ]
    },
    {
      "cell_type": "code",
      "metadata": {
        "id": "fdJV15w9hPaK",
        "colab_type": "code",
        "colab": {
          "base_uri": "https://localhost:8080/",
          "height": 1000
        },
        "outputId": "cb426181-896c-46a1-ce0b-c5a4dbc6867a"
      },
      "source": [
        "Feature_name = X.columns\n",
        "indices = importances.argsort()[::-1][0:50]\n",
        "importances[[indices]]\n",
        "Feature_name[[indices]]\n",
        "plt.figure(figsize=(20,10))\n",
        "plt.xticks(rotation=90)\n",
        "plt.ylabel('Feature Importance',fontsize=15)\n",
        "plt.title('Top 50 Most Important Feature',fontsize=20)\n",
        "plt.bar(Feature_name[[indices]],importances[[indices]])"
      ],
      "execution_count": null,
      "outputs": [
        {
          "output_type": "stream",
          "text": [
            "/usr/local/lib/python3.6/dist-packages/ipykernel_launcher.py:3: FutureWarning: Using a non-tuple sequence for multidimensional indexing is deprecated; use `arr[tuple(seq)]` instead of `arr[seq]`. In the future this will be interpreted as an array index, `arr[np.array(seq)]`, which will result either in an error or a different result.\n",
            "  This is separate from the ipykernel package so we can avoid doing imports until\n",
            "/usr/local/lib/python3.6/dist-packages/pandas/core/indexes/base.py:4291: FutureWarning: Using a non-tuple sequence for multidimensional indexing is deprecated; use `arr[tuple(seq)]` instead of `arr[seq]`. In the future this will be interpreted as an array index, `arr[np.array(seq)]`, which will result either in an error or a different result.\n",
            "  result = getitem(key)\n",
            "/usr/local/lib/python3.6/dist-packages/ipykernel_launcher.py:9: FutureWarning: Using a non-tuple sequence for multidimensional indexing is deprecated; use `arr[tuple(seq)]` instead of `arr[seq]`. In the future this will be interpreted as an array index, `arr[np.array(seq)]`, which will result either in an error or a different result.\n",
            "  if __name__ == '__main__':\n"
          ],
          "name": "stderr"
        },
        {
          "output_type": "execute_result",
          "data": {
            "text/plain": [
              "<BarContainer object of 50 artists>"
            ]
          },
          "metadata": {
            "tags": []
          },
          "execution_count": 71
        },
        {
          "output_type": "display_data",
          "data": {
            "image/png": "[encoded data removed]",
            "text/plain": [
              "<Figure size 1440x720 with 1 Axes>"
            ]
          },
          "metadata": {
            "tags": []
          }
        }
      ]
    },
    {
      "cell_type": "markdown",
      "metadata": {
        "id": "9yz-JIrqBO_4",
        "colab_type": "text"
      },
      "source": [
        "##### 1.4.3 Results\n",
        "From the visualization, we can see \"Time from Start to Finish\", \"Q1\", \"Q3\", \"Q15\", \"Q11\", \"Q6\", \"Q7\", \"Q23\", \"Q8\", \"Q4\" are outstandingly informative features. "
      ]
    },
    {
      "cell_type": "markdown",
      "metadata": {
        "id": "_Z1f4VtSqSX8",
        "colab_type": "text"
      },
      "source": [
        "# 2.0 Feature Selection\n",
        "A feature could be strongly relevant (i.e., the feature has information that doesn't exist in any other feature), relevant, weakly relevant (some information that other features include) or irrelevant. Reducing the features by feature selection can reduce the complexity of the model, thus the model can run faster.[1]Feature selection can be used to prevent overfitting. Even if some features are irrelevant, having too many is better than missing those that are important. Feature selection can be done manually, but this can be inaccurate without domain experts. The Lasso regularization has the property that is able to shrink some of the coefficients to zero. Since each non-zero coefficient adds to the penalty, it forces weak features to have zero as coefficients. Therefore, we will use Lasso regularization feature selection algorithm."
      ]
    },
    {
      "cell_type": "markdown",
      "metadata": {
        "id": "NV9f0E-BELZF",
        "colab_type": "text"
      },
      "source": [
        "### 2.1 Use Lasso Regularization to Extract Features\n",
        "Use alpha = 0.01, so that the penalization term is not very large. This can reduce the chance of missing important features. "
      ]
    },
    {
      "cell_type": "code",
      "metadata": {
        "id": "gCFRGqAgqW1a",
        "colab_type": "code",
        "colab": {
          "base_uri": "https://localhost:8080/",
          "height": 68
        },
        "outputId": "0f7afe49-5a55-4489-8ef8-c5028ee53db8"
      },
      "source": [
        "fs = Lasso(alpha=0.01)\n",
        "fs.fit(X_std,y)"
      ],
      "execution_count": null,
      "outputs": [
        {
          "output_type": "execute_result",
          "data": {
            "text/plain": [
              "Lasso(alpha=0.01, copy_X=True, fit_intercept=True, max_iter=1000,\n",
              "      normalize=False, positive=False, precompute=False, random_state=None,\n",
              "      selection='cyclic', tol=0.0001, warm_start=False)"
            ]
          },
          "metadata": {
            "tags": []
          },
          "execution_count": 72
        }
      ]
    },
    {
      "cell_type": "code",
      "metadata": {
        "id": "JociKLXmuzCS",
        "colab_type": "code",
        "colab": {}
      },
      "source": [
        "select = []\n",
        "for i in range (len(fs.coef_)):\n",
        "  if fs.coef_[i] != 0:\n",
        "    select.append(i)"
      ],
      "execution_count": null,
      "outputs": []
    },
    {
      "cell_type": "code",
      "metadata": {
        "id": "-LR69XBYu3p-",
        "colab_type": "code",
        "colab": {
          "base_uri": "https://localhost:8080/",
          "height": 408
        },
        "outputId": "1d2bc024-8157-4b4d-bf4c-de18c5fcf89c"
      },
      "source": [
        "Feature_name[select]"
      ],
      "execution_count": null,
      "outputs": [
        {
          "output_type": "execute_result",
          "data": {
            "text/plain": [
              "Index(['Q1', 'Q2_Female', 'Q3', 'Q5_Other', 'Q5_Data Scientist',\n",
              "       'Q5_Product/Project Manager', 'Q5_Data Analyst',\n",
              "       'Q5_Research Scientist', 'Q6', 'Q7', 'Q8', 'Q9_Part_1', 'Q9_Part_2',\n",
              "       'Q9_Part_3', 'Q9_Part_4', 'Q9_Part_5', 'Q9_Part_6', 'Q11', 'Q12_Part_1',\n",
              "       'Q12_Part_2', 'Q12_Part_3', 'Q12_Part_4', 'Q12_Part_5', 'Q12_Part_6',\n",
              "       'Q12_Part_7', 'Q12_Part_8', 'Q12_Part_9', 'Q12_Part_10', 'Q13_Part_1',\n",
              "       'Q13_Part_2', 'Q13_Part_3', 'Q13_Part_4', 'Q13_Part_6', 'Q13_Part_7',\n",
              "       'Q13_Part_8', 'Q13_Part_12',\n",
              "       'Q14_Cloud-based data software & APIs (AWS, GCP, Azure, etc.)',\n",
              "       'Q14_Local development environments (RStudio, JupyterLab, etc.)',\n",
              "       'Q14_Business intelligence software (Salesforce, Tableau, Spotfire, etc.)',\n",
              "       'Q15', 'Q16_Part_1', 'Q16_Part_3', 'Q16_Part_4', 'Q16_Part_5',\n",
              "       'Q16_Part_6', 'Q16_Part_7', 'Q16_Part_8', 'Q16_Part_9', 'Q16_Part_10',\n",
              "       'Q17_Part_1', 'Q17_Part_2', 'Q17_Part_11', 'Q18_Part_3', 'Q18_Part_4',\n",
              "       'Q18_Part_5', 'Q18_Part_6', 'Q18_Part_9', 'Q19_SQL', 'Q20_Part_2',\n",
              "       'Q20_Part_5', 'Q20_Part_6', 'Q21_Part_1', 'Q21_Part_2', 'Q21_Part_4',\n",
              "       'Q23', 'Q24_Part_1', 'Q24_Part_3', 'Q24_Part_9', 'Q24_Part_10',\n",
              "       'Q25_Part_6', 'Q25_Part_7', 'Q26_Part_6', 'Q27_Part_5', 'Q28_Part_5',\n",
              "       'Q29_Part_2', 'Q29_Part_11', 'Q30_Part_1', 'Q30_Part_6', 'Q30_Part_11',\n",
              "       'Q31_Part_1', 'Q31_Part_2', 'Q31_Part_7', 'Q32_Part_3', 'Q32_Part_11',\n",
              "       'Q33_Part_11', 'Q34_Part_1', 'Q34_Part_3', 'Q34_Part_5', 'Q34_Part_6',\n",
              "       'Q34_Part_7'],\n",
              "      dtype='object')"
            ]
          },
          "metadata": {
            "tags": []
          },
          "execution_count": 74
        }
      ]
    },
    {
      "cell_type": "markdown",
      "metadata": {
        "id": "NXikJsJuFyJ5",
        "colab_type": "text"
      },
      "source": [
        "### 2.2 Final Selection\n",
        "The features selected by L1 regularization was listed above. We find out the Lasso Regularization did not include \"Q4-highest education level\". The previous randon forest model indicate Q4 is an important feature. Also by common sense, education level will match to salary level. So, we manually add Q4 to the selected features. "
      ]
    },
    {
      "cell_type": "code",
      "metadata": {
        "id": "PHy1u_82v5o-",
        "colab_type": "code",
        "colab": {}
      },
      "source": [
        "Selected = ['Q1', 'Q2_Female', 'Q3', 'Q5_Other', 'Q5_Data Scientist',\n",
        "       'Q5_Product/Project Manager', 'Q5_Data Analyst',\n",
        "       'Q5_Research Scientist', 'Q6', 'Q7', 'Q8', 'Q9_Part_1', 'Q9_Part_2',\n",
        "       'Q9_Part_3', 'Q9_Part_4', 'Q9_Part_5', 'Q9_Part_6', 'Q11', 'Q12_Part_1',\n",
        "       'Q12_Part_2', 'Q12_Part_3', 'Q12_Part_4', 'Q12_Part_5', 'Q12_Part_6',\n",
        "       'Q12_Part_7', 'Q12_Part_8', 'Q12_Part_9', 'Q12_Part_10', 'Q13_Part_1',\n",
        "       'Q13_Part_2', 'Q13_Part_3', 'Q13_Part_4', 'Q13_Part_6', 'Q13_Part_7',\n",
        "       'Q13_Part_8', 'Q13_Part_12',\n",
        "       'Q14_Cloud-based data software & APIs (AWS, GCP, Azure, etc.)',\n",
        "       'Q14_Local development environments (RStudio, JupyterLab, etc.)',\n",
        "       'Q14_Business intelligence software (Salesforce, Tableau, Spotfire, etc.)',\n",
        "       'Q15', 'Q16_Part_1', 'Q16_Part_3', 'Q16_Part_4', 'Q16_Part_5',\n",
        "       'Q16_Part_6', 'Q16_Part_7', 'Q16_Part_8', 'Q16_Part_9', 'Q16_Part_10',\n",
        "       'Q17_Part_1', 'Q17_Part_2', 'Q17_Part_11', 'Q18_Part_3', 'Q18_Part_4',\n",
        "       'Q18_Part_5', 'Q18_Part_6', 'Q18_Part_9', 'Q19_SQL', 'Q20_Part_2',\n",
        "       'Q20_Part_5', 'Q20_Part_6', 'Q21_Part_1', 'Q21_Part_2', 'Q21_Part_4',\n",
        "       'Q23', 'Q24_Part_1', 'Q24_Part_3', 'Q24_Part_9', 'Q24_Part_10',\n",
        "       'Q25_Part_6', 'Q25_Part_7', 'Q26_Part_6', 'Q27_Part_5', 'Q28_Part_5',\n",
        "       'Q29_Part_2', 'Q29_Part_11', 'Q30_Part_1', 'Q30_Part_6', 'Q30_Part_11',\n",
        "       'Q31_Part_1', 'Q31_Part_2', 'Q31_Part_7', 'Q32_Part_3', 'Q32_Part_11',\n",
        "       'Q33_Part_11', 'Q34_Part_1', 'Q34_Part_3', 'Q34_Part_5', 'Q34_Part_6',\n",
        "       'Q34_Part_7','Q4']"
      ],
      "execution_count": null,
      "outputs": []
    },
    {
      "cell_type": "markdown",
      "metadata": {
        "id": "1A4H0MQYzIlk",
        "colab_type": "text"
      },
      "source": [
        "# 3.0 Model Implementation"
      ]
    },
    {
      "cell_type": "markdown",
      "metadata": {
        "id": "fPFyy1exHQK-",
        "colab_type": "text"
      },
      "source": [
        "### 3.1 Get the Training and Testing Sets\n",
        "Use MinMax Scalar to scale the features. The one-hot encoding will not be affected by MinMax Scalar. They still remain as 0 and 1 after scaling. "
      ]
    },
    {
      "cell_type": "code",
      "metadata": {
        "id": "1OwPeGVOzOCn",
        "colab_type": "code",
        "colab": {}
      },
      "source": [
        "# Drop the unselected features\n",
        "Useless = []\n",
        "for i in range (len(X.columns)):\n",
        "  if X.columns[i] not in Selected:\n",
        "     Useless.append(i)\n",
        "X = X.drop(X.columns[Useless], axis=1)"
      ],
      "execution_count": null,
      "outputs": []
    },
    {
      "cell_type": "code",
      "metadata": {
        "id": "aWwFPCNTzWPB",
        "colab_type": "code",
        "colab": {}
      },
      "source": [
        "X_std = MinMaxScaler().fit_transform(X)\n",
        "y = np.array(y)"
      ],
      "execution_count": null,
      "outputs": []
    },
    {
      "cell_type": "code",
      "metadata": {
        "id": "vZp4MSmX1nGl",
        "colab_type": "code",
        "colab": {}
      },
      "source": [
        "X_train, X_test, y_train, y_test = train_test_split(X_std, y, test_size=0.2, random_state=0)"
      ],
      "execution_count": null,
      "outputs": []
    },
    {
      "cell_type": "markdown",
      "metadata": {
        "id": "haZdaWFFLsiA",
        "colab_type": "text"
      },
      "source": [
        "### 3.2 Implement the Logistic Regression 10- Fold CV\n",
        "For the model we use orinary multi-class classification algorithm. There are 15 different lables in the target set, so 15 binary classifications are implemented. For each binary classifications, a logistic regression is trained. Then the prediction is made by output the probability of belonging to 0 or 1. For classification problem 1, we have class 0 for salary 0-10K and class 1 for the rest. For classification problem 2, we have class 0 for salary 0-20K and class 1 for the rest. We can obtain the probability of each data point of belonging to each of the salary buckets, and select the label with highest probability as the prediction.  "
      ]
    },
    {
      "cell_type": "code",
      "metadata": {
        "id": "7Z4NCiApPd0x",
        "colab_type": "code",
        "colab": {}
      },
      "source": [
        "def binary_y(y,b):\n",
        "  y1 = np.zeros(len(y))\n",
        "  for i in range(len(y)):\n",
        "    if y[i] <= b:\n",
        "      y1[i] = 1\n",
        "    else: \n",
        "      y1[i] = 0\n",
        "  return y1"
      ],
      "execution_count": null,
      "outputs": []
    },
    {
      "cell_type": "code",
      "metadata": {
        "id": "_e5QwUD993pr",
        "colab_type": "code",
        "colab": {
          "base_uri": "https://localhost:8080/",
          "height": 221
        },
        "outputId": "5e3dd12d-e411-4a53-9ce8-c7650a91a750"
      },
      "source": [
        "\n",
        "\n",
        "# acc = []\n",
        "# fold = 0\n",
        "# kf = KFold(n_splits=10)\n",
        "# for train_index, test_index in kf.split(X_train):\n",
        "#   fold += 1\n",
        "#   X_trainCV = X_train[train_index]\n",
        "#   y_trainCV = y_train[train_index]\n",
        "#   X_val = X_train[test_index]\n",
        "#   y_val = y_train[test_index]\n",
        "#   P = np.zeros((len(y_val),15))\n",
        "#   for i in range (14):\n",
        "#     #print(\"TRAIN:\", train_index, \"TEST:\", test_index)\n",
        "#     lr = LogisticRegression(max_iter=10000).fit(X_trainCV, binary_y(y_trainCV,i))\n",
        "#     pred = lr.predict_proba(X_val)\n",
        "#     P[:,i] = pred[:,1]\n",
        "#   for i in range (1,14):\n",
        "#     P[:,i] = P[:,i] - np.sum(P[:,0:i], axis=1)\n",
        "#     P[:,14] = 1-np.sum(P[:,0:-1],axis=1)\n",
        "#     predict = P.argmax(axis=1)\n",
        "#   print('Accuracy of fold' + str(fold) + ':' + str(accuracy_score(y_val,predict)))\n",
        "#   acc.append(accuracy_score(y_val,predict))\n",
        "# print('Model Accuracy: ' +str(np.array(acc).mean()))\n",
        "# print('Accuracy Standard Deviation: ' +str(np.array(acc).std()))\n",
        "\n"
      ],
      "execution_count": null,
      "outputs": [
        {
          "output_type": "stream",
          "text": [
            "Accuracy of fold1:0.33979591836734696\n",
            "Accuracy of fold2:0.36428571428571427\n",
            "Accuracy of fold3:0.35612244897959183\n",
            "Accuracy of fold4:0.3326530612244898\n",
            "Accuracy of fold5:0.3142857142857143\n",
            "Accuracy of fold6:0.363265306122449\n",
            "Accuracy of fold7:0.3306122448979592\n",
            "Accuracy of fold8:0.3438775510204082\n",
            "Accuracy of fold9:0.34183673469387754\n",
            "Accuracy of fold10:0.32755102040816325\n",
            "Model Accuracy: 0.3414285714285714\n",
            "Accuracy Standard Deviation: 0.01532108112581507\n"
          ],
          "name": "stdout"
        }
      ]
    },
    {
      "cell_type": "code",
      "metadata": {
        "id": "9dYjZk45AlNY",
        "colab_type": "code",
        "colab": {}
      },
      "source": [
        ""
      ],
      "execution_count": null,
      "outputs": []
    },
    {
      "cell_type": "markdown",
      "metadata": {
        "id": "B0fO2_FOz2VY",
        "colab_type": "text"
      },
      "source": [
        "### 3.3 Bias and Variance\n",
        "The mean accuracy of the model is 0.344 and standard deviation of 0.017. The bias of the model is very high, but the variance is not very large. We have to do bias-variance trade off to reduce the bias by hyperparameter tuning. "
      ]
    },
    {
      "cell_type": "markdown",
      "metadata": {
        "id": "xIIv1MtUGv7F",
        "colab_type": "text"
      },
      "source": [
        "# 4.0 Hyperparameter Tuning\n",
        "For each binary classification, we are going to tune its own best hyperparameter and solver. We use accuracy as metrics because the data is fairly balanced. In the case of salary prediction, false positive and false negative are equally bad. Accuracy assign same penalization on each case. "
      ]
    },
    {
      "cell_type": "markdown",
      "metadata": {
        "id": "IXcNxone2i30",
        "colab_type": "text"
      },
      "source": [
        "### 4.1 Grid Research"
      ]
    },
    {
      "cell_type": "code",
      "metadata": {
        "id": "scZ4ecA3GzoM",
        "colab_type": "code",
        "colab": {
          "base_uri": "https://localhost:8080/",
          "height": 969
        },
        "outputId": "d9eccd64-2811-4617-cc4e-bd520ce4f8b8"
      },
      "source": [
        "# for i in range (14):\n",
        "#     best_model = model\n",
        "#     best_params = {}\n",
        "#     best_accuracy = 0\n",
        "#     best_std = 0\n",
        "\n",
        "#     for C in [0.001,0.01,0.05,0.1,0.5,1,5,10]:\n",
        "#         for solver in ['newton-cg','lbfgs','liblinear','sag']:\n",
        "#             accuracy = []\n",
        "\n",
        "#             for train_index, test_index in kf.split(X_train):\n",
        "#               X_trainCV = X_train[train_index]\n",
        "#               y_trainCV = y_train[train_index]\n",
        "#               X_val = X_train[test_index]\n",
        "#               y_val = y_train[test_index]\n",
        "#               P = np.zeros((len(y_val),15))\n",
        "\n",
        "#               model = LogisticRegression(random_state=0,C=C,penalty='l2',max_iter=10000,solver=solver).fit(X_trainCV, binary_y(y_trainCV,i))\n",
        "#               pred = model.predict(X_val)\n",
        "\n",
        "#               accuracy.append(accuracy_score(binary_y(y_val,i),pred))\n",
        "            \n",
        "#             if np.array(accuracy).mean() > best_accuracy:\n",
        "#                 best_model = model\n",
        "#                 best_params = {'C':C, 'solver':solver}\n",
        "#                 best_accuracy = np.array(accuracy).mean()\n",
        "#                 best_std = np.array(accuracy).std()\n",
        "\n",
        "#     print (best_params)\n",
        "#     print (\"Best Score: {}({})\".format(round(best_accuracy,3),round(best_std,3)))      \n",
        "#     print (\"\\nThe optimal log model uses C={}, and a {} solver, and has a cross validation score of {} with a standard deviation of {}\".format(best_params['C'],best_params['solver'],round(best_accuracy,3),round(best_std,3)))"
      ],
      "execution_count": null,
      "outputs": [
        {
          "output_type": "stream",
          "text": [
            "{'C': 0.5, 'solver': 'liblinear'}\n",
            "Best Score: 0.784(0.013)\n",
            "\n",
            "The optimal log model uses C=0.5, and a liblinear solver, and has a cross validation score of 0.784 with a standard deviation of 0.013\n",
            "{'C': 0.5, 'solver': 'newton-cg'}\n",
            "Best Score: 0.778(0.012)\n",
            "\n",
            "The optimal log model uses C=0.5, and a newton-cg solver, and has a cross validation score of 0.778 with a standard deviation of 0.012\n",
            "{'C': 1, 'solver': 'liblinear'}\n",
            "Best Score: 0.781(0.016)\n",
            "\n",
            "The optimal log model uses C=1, and a liblinear solver, and has a cross validation score of 0.781 with a standard deviation of 0.016\n",
            "{'C': 0.5, 'solver': 'liblinear'}\n",
            "Best Score: 0.779(0.017)\n",
            "\n",
            "The optimal log model uses C=0.5, and a liblinear solver, and has a cross validation score of 0.779 with a standard deviation of 0.017\n",
            "{'C': 0.1, 'solver': 'liblinear'}\n",
            "Best Score: 0.788(0.011)\n",
            "\n",
            "The optimal log model uses C=0.1, and a liblinear solver, and has a cross validation score of 0.788 with a standard deviation of 0.011\n",
            "{'C': 0.5, 'solver': 'newton-cg'}\n",
            "Best Score: 0.8(0.012)\n",
            "\n",
            "The optimal log model uses C=0.5, and a newton-cg solver, and has a cross validation score of 0.8 with a standard deviation of 0.012\n",
            "{'C': 0.5, 'solver': 'newton-cg'}\n",
            "Best Score: 0.815(0.008)\n",
            "\n",
            "The optimal log model uses C=0.5, and a newton-cg solver, and has a cross validation score of 0.815 with a standard deviation of 0.008\n",
            "{'C': 0.05, 'solver': 'newton-cg'}\n",
            "Best Score: 0.833(0.008)\n",
            "\n",
            "The optimal log model uses C=0.05, and a newton-cg solver, and has a cross validation score of 0.833 with a standard deviation of 0.008\n",
            "{'C': 0.05, 'solver': 'newton-cg'}\n",
            "Best Score: 0.856(0.01)\n",
            "\n",
            "The optimal log model uses C=0.05, and a newton-cg solver, and has a cross validation score of 0.856 with a standard deviation of 0.01\n",
            "{'C': 0.1, 'solver': 'newton-cg'}\n",
            "Best Score: 0.87(0.012)\n",
            "\n",
            "The optimal log model uses C=0.1, and a newton-cg solver, and has a cross validation score of 0.87 with a standard deviation of 0.012\n",
            "{'C': 0.5, 'solver': 'newton-cg'}\n",
            "Best Score: 0.909(0.012)\n",
            "\n",
            "The optimal log model uses C=0.5, and a newton-cg solver, and has a cross validation score of 0.909 with a standard deviation of 0.012\n",
            "{'C': 0.05, 'solver': 'liblinear'}\n",
            "Best Score: 0.939(0.01)\n",
            "\n",
            "The optimal log model uses C=0.05, and a liblinear solver, and has a cross validation score of 0.939 with a standard deviation of 0.01\n",
            "{'C': 0.1, 'solver': 'newton-cg'}\n",
            "Best Score: 0.97(0.008)\n",
            "\n",
            "The optimal log model uses C=0.1, and a newton-cg solver, and has a cross validation score of 0.97 with a standard deviation of 0.008\n",
            "{'C': 0.1, 'solver': 'newton-cg'}\n",
            "Best Score: 0.982(0.003)\n",
            "\n",
            "The optimal log model uses C=0.1, and a newton-cg solver, and has a cross validation score of 0.982 with a standard deviation of 0.003\n"
          ],
          "name": "stdout"
        }
      ]
    },
    {
      "cell_type": "markdown",
      "metadata": {
        "id": "emFhvn_G2mEs",
        "colab_type": "text"
      },
      "source": [
        "### 4.2 Best Hyperparameters on each binary classifier\n",
        "We implement the tuned hyperparameter on each classification and see how the model perform. The model accuracy decreases and variance increases. The model perform even worse than section 3.2. Tuning the hyperparameters for each binary classification does not increase the model performance. We are going to try to use universal hyperparameters for all the binary classifications."
      ]
    },
    {
      "cell_type": "code",
      "metadata": {
        "id": "7-JeQIKB2qor",
        "colab_type": "code",
        "colab": {}
      },
      "source": [
        "C = [0.5, 0.5, 1, 0.5, 0.1, 0.5, 0.5, 0.05, 0.05, 0.1, 0.5, 0.05, 0.1, 0.1]\n",
        "solver = ['liblinear','newton-cg','newton-cg','liblinear','liblinear','newton-cg','newton-cg','newton-cg','newton-cg','newton-cg','newton-cg','liblinear','newton-cg','newton-cg']"
      ],
      "execution_count": null,
      "outputs": []
    },
    {
      "cell_type": "code",
      "metadata": {
        "id": "G9FnVuFD8DgM",
        "colab_type": "code",
        "colab": {
          "base_uri": "https://localhost:8080/",
          "height": 221
        },
        "outputId": "e7ec7c00-f45f-4610-e3e6-707a68ae8fa9"
      },
      "source": [
        "# acc = []\n",
        "# fold = 0\n",
        "# kf = KFold(n_splits=10)\n",
        "# for train_index, test_index in kf.split(X_train):\n",
        "#   fold += 1\n",
        "#   X_trainCV = X_train[train_index]\n",
        "#   y_trainCV = y_train[train_index]\n",
        "#   X_val = X_train[test_index]\n",
        "#   y_val = y_train[test_index]\n",
        "#   P = np.zeros((len(y_val),15))\n",
        "#   for i in range (14):\n",
        "#     #print(\"TRAIN:\", train_index, \"TEST:\", test_index)\n",
        "#     lr = LogisticRegression(C=C[i],solver=solver[i],max_iter=10000).fit(X_trainCV, binary_y(y_trainCV,i))\n",
        "#     pred = lr.predict_proba(X_val)\n",
        "#     P[:,i] = pred[:,1]\n",
        "#   for i in range (1,14):\n",
        "#     P[:,i] = P[:,i] - np.sum(P[:,0:i], axis=1)\n",
        "#     P[:,14] = 1-np.sum(P[:,0:-1],axis=1)\n",
        "#     predict = P.argmax(axis=1)\n",
        "#   print('Accuracy of fold' + str(fold) + ':' + str(accuracy_score(y_val,predict)))\n",
        "#   acc.append(accuracy_score(y_val,predict))\n",
        "# print('Model Accuracy: ' +str(np.array(acc).mean()))\n",
        "# print('Accuracy Standard Deviation: ' +str(np.array(acc).std()))"
      ],
      "execution_count": null,
      "outputs": [
        {
          "output_type": "stream",
          "text": [
            "Accuracy of fold1:0.3346938775510204\n",
            "Accuracy of fold2:0.3653061224489796\n",
            "Accuracy of fold3:0.35408163265306125\n",
            "Accuracy of fold4:0.32551020408163267\n",
            "Accuracy of fold5:0.3163265306122449\n",
            "Accuracy of fold6:0.3683673469387755\n",
            "Accuracy of fold7:0.32857142857142857\n",
            "Accuracy of fold8:0.34183673469387754\n",
            "Accuracy of fold9:0.33877551020408164\n",
            "Accuracy of fold10:0.32857142857142857\n",
            "Model Accuracy: 0.3402040816326531\n",
            "Accuracy Standard Deviation: 0.01645485285330713\n"
          ],
          "name": "stdout"
        }
      ]
    },
    {
      "cell_type": "markdown",
      "metadata": {
        "id": "LxA7xD39RQ9w",
        "colab_type": "text"
      },
      "source": [
        "### 4.3 Grid Research on Model Hyperparameters\n",
        "For each binary classification, we will use the same hyperparameter. In this section we tune the \"universal hyperparameter\" for the model and find out the best combination is C = 0.05 and solver = newton-cg. The accuracy of the model is 0.3466 and standard deviation is 0.0159. Comparing to section 3.2, the model bias decreases but variance increases. "
      ]
    },
    {
      "cell_type": "code",
      "metadata": {
        "id": "vlPq3hyBPPyL",
        "colab_type": "code",
        "colab": {}
      },
      "source": [
        "def clf10(R,S):\n",
        "  acc = []\n",
        "  fold = 0\n",
        "  kf = KFold(n_splits=10)\n",
        "  for train_index, test_index in kf.split(X_train):\n",
        "    fold += 1\n",
        "    X_trainCV = X_train[train_index]\n",
        "    y_trainCV = y_train[train_index]\n",
        "    X_val = X_train[test_index]\n",
        "    y_val = y_train[test_index]\n",
        "    P = np.zeros((len(y_val),15))\n",
        "    for i in range (14):\n",
        "      #print(\"TRAIN:\", train_index, \"TEST:\", test_index)\n",
        "      lr = LogisticRegression(max_iter=10000,C=R,solver=S).fit(X_trainCV, binary_y(y_trainCV,i))\n",
        "      pred = lr.predict_proba(X_val)\n",
        "      P[:,i] = pred[:,1]\n",
        "    for i in range (1,14):\n",
        "      P[:,i] = P[:,i] - np.sum(P[:,0:i], axis=1)\n",
        "      P[:,14] = 1-np.sum(P[:,0:-1],axis=1)\n",
        "      predict = P.argmax(axis=1)\n",
        "    acc.append(accuracy_score(y_val,predict))\n",
        "  print('Model Accuracy: ' +str(np.array(acc).mean()))\n",
        "  print('Accuracy Standard Deviation: ' +str(np.array(acc).std()))"
      ],
      "execution_count": null,
      "outputs": []
    },
    {
      "cell_type": "code",
      "metadata": {
        "id": "8fnpmKjXDieL",
        "colab_type": "code",
        "colab": {
          "base_uri": "https://localhost:8080/",
          "height": 1000
        },
        "outputId": "f8331a6a-e00a-4a25-b9b0-d6c04afac07e"
      },
      "source": [
        "# for C in [0.001,0.01,0.05,0.1,0.5,1,5,10]:\n",
        "#     for solver in ['newton-cg','lbfgs','liblinear','sag']:\n",
        "#       print(C,solver)\n",
        "#       clf10(C,solver)"
      ],
      "execution_count": null,
      "outputs": [
        {
          "output_type": "stream",
          "text": [
            "0.001 newton-cg\n",
            "Model Accuracy: 0.3233673469387755\n",
            "Accuracy Standard Deviation: 0.01658877397240491\n",
            "0.001 lbfgs\n",
            "Model Accuracy: 0.3233673469387755\n",
            "Accuracy Standard Deviation: 0.01658877397240491\n",
            "0.001 liblinear\n",
            "Model Accuracy: 0.32112244897959186\n",
            "Accuracy Standard Deviation: 0.014906692994870303\n",
            "0.001 sag\n",
            "Model Accuracy: 0.3233673469387755\n",
            "Accuracy Standard Deviation: 0.01658877397240491\n",
            "0.01 newton-cg\n",
            "Model Accuracy: 0.3451020408163265\n",
            "Accuracy Standard Deviation: 0.015514231485711865\n",
            "0.01 lbfgs\n",
            "Model Accuracy: 0.3451020408163265\n",
            "Accuracy Standard Deviation: 0.015514231485711865\n",
            "0.01 liblinear\n",
            "Model Accuracy: 0.3446938775510204\n",
            "Accuracy Standard Deviation: 0.01817816403399458\n",
            "0.01 sag\n",
            "Model Accuracy: 0.3451020408163265\n",
            "Accuracy Standard Deviation: 0.015514231485711865\n",
            "0.05 newton-cg\n",
            "Model Accuracy: 0.3466326530612245\n",
            "Accuracy Standard Deviation: 0.015939611674217938\n",
            "0.05 lbfgs\n",
            "Model Accuracy: 0.346530612244898\n",
            "Accuracy Standard Deviation: 0.01598624981842134\n",
            "0.05 liblinear\n",
            "Model Accuracy: 0.3458163265306123\n",
            "Accuracy Standard Deviation: 0.01599438937446162\n",
            "0.05 sag\n",
            "Model Accuracy: 0.3466326530612245\n",
            "Accuracy Standard Deviation: 0.015939611674217938\n",
            "0.1 newton-cg\n",
            "Model Accuracy: 0.3444897959183673\n",
            "Accuracy Standard Deviation: 0.017094197217446472\n",
            "0.1 lbfgs\n",
            "Model Accuracy: 0.3444897959183673\n",
            "Accuracy Standard Deviation: 0.017094197217446472\n",
            "0.1 liblinear\n",
            "Model Accuracy: 0.34459183673469396\n",
            "Accuracy Standard Deviation: 0.016472877257212692\n",
            "0.1 sag\n",
            "Model Accuracy: 0.3444897959183673\n",
            "Accuracy Standard Deviation: 0.017094197217446472\n",
            "0.5 newton-cg\n",
            "Model Accuracy: 0.3421428571428572\n",
            "Accuracy Standard Deviation: 0.016403200081933605\n",
            "0.5 lbfgs\n",
            "Model Accuracy: 0.3421428571428572\n",
            "Accuracy Standard Deviation: 0.016403200081933605\n",
            "0.5 liblinear\n",
            "Model Accuracy: 0.34122448979591835\n",
            "Accuracy Standard Deviation: 0.017798445804420533\n",
            "0.5 sag\n",
            "Model Accuracy: 0.34234693877551015\n",
            "Accuracy Standard Deviation: 0.01629620908843201\n",
            "1 newton-cg\n",
            "Model Accuracy: 0.3414285714285714\n",
            "Accuracy Standard Deviation: 0.01532108112581507\n",
            "1 lbfgs\n",
            "Model Accuracy: 0.3414285714285714\n",
            "Accuracy Standard Deviation: 0.01532108112581507\n",
            "1 liblinear\n",
            "Model Accuracy: 0.3410204081632653\n",
            "Accuracy Standard Deviation: 0.016139231771238806\n",
            "1 sag\n",
            "Model Accuracy: 0.3414285714285714\n",
            "Accuracy Standard Deviation: 0.01532108112581507\n",
            "5 newton-cg\n",
            "Model Accuracy: 0.34122448979591835\n",
            "Accuracy Standard Deviation: 0.015623911873814863\n",
            "5 lbfgs\n",
            "Model Accuracy: 0.3413265306122449\n",
            "Accuracy Standard Deviation: 0.015537368800341247\n",
            "5 liblinear\n",
            "Model Accuracy: 0.34122448979591835\n",
            "Accuracy Standard Deviation: 0.015670492914655075\n",
            "5 sag\n",
            "Model Accuracy: 0.3411224489795919\n",
            "Accuracy Standard Deviation: 0.01563623606831282\n",
            "10 newton-cg\n",
            "Model Accuracy: 0.34122448979591835\n",
            "Accuracy Standard Deviation: 0.015327875698469712\n",
            "10 lbfgs\n",
            "Model Accuracy: 0.34132653061224494\n",
            "Accuracy Standard Deviation: 0.015314623489595542\n",
            "10 liblinear\n",
            "Model Accuracy: 0.34132653061224494\n",
            "Accuracy Standard Deviation: 0.015584208519695166\n",
            "10 sag\n",
            "Model Accuracy: 0.34132653061224494\n",
            "Accuracy Standard Deviation: 0.015314623489595542\n"
          ],
          "name": "stdout"
        }
      ]
    },
    {
      "cell_type": "code",
      "metadata": {
        "id": "0ZpCyM4t2zcp",
        "colab_type": "code",
        "colab": {
          "base_uri": "https://localhost:8080/",
          "height": 51
        },
        "outputId": "a6acf009-8380-4b03-8e71-836d9db99481"
      },
      "source": [
        "# clf10(0.05,'newton-cg')"
      ],
      "execution_count": null,
      "outputs": [
        {
          "output_type": "stream",
          "text": [
            "Model Accuracy: 0.3466326530612245\n",
            "Accuracy Standard Deviation: 0.015939611674217938\n"
          ],
          "name": "stdout"
        }
      ]
    },
    {
      "cell_type": "markdown",
      "metadata": {
        "id": "UwzMNCDt3lhL",
        "colab_type": "text"
      },
      "source": [
        "# 5.0 Test and Discussion"
      ]
    },
    {
      "cell_type": "markdown",
      "metadata": {
        "id": "d9f86Dh33tRT",
        "colab_type": "text"
      },
      "source": [
        "### 5.1 Implement the Model on Train and Test Data"
      ]
    },
    {
      "cell_type": "code",
      "metadata": {
        "id": "zlTeNb3Wc-E7",
        "colab_type": "code",
        "colab": {
          "base_uri": "https://localhost:8080/",
          "height": 34
        },
        "outputId": "b01d3c1e-78f0-4b67-aa62-66e43c03e50c"
      },
      "source": [
        "P_test = np.zeros((len(y_train),15))\n",
        "for i in range (14):\n",
        "    TEST = LogisticRegression(random_state=0,C=0.05,solver='newton-cg',penalty='l2',max_iter=10000).fit(X_train, binary_y(y_train,i))\n",
        "    pred = TEST.predict_proba(X_train)\n",
        "    P_test[:,i] = pred[:,1]\n",
        "for i in range (1,14):\n",
        "    P_test[:,i] = P_test[:,i] - np.sum(P_test[:,0:i], axis=1)\n",
        "    P_test[:,14] = 1-np.sum(P_test[:,0:-1],axis=1)\n",
        "    predict = P_test.argmax(axis=1)\n",
        "print('The train accuracy after tuning is: ' +str(accuracy_score(y_train,predict)))"
      ],
      "execution_count": null,
      "outputs": [
        {
          "output_type": "stream",
          "text": [
            "The train accuracy after tuning is: 0.3660204081632653\n"
          ],
          "name": "stdout"
        }
      ]
    },
    {
      "cell_type": "code",
      "metadata": {
        "id": "qWKpvy7FJ_3K",
        "colab_type": "code",
        "colab": {
          "base_uri": "https://localhost:8080/",
          "height": 34
        },
        "outputId": "80cdd86d-7637-4070-a7c9-abc373e23fcc"
      },
      "source": [
        "P_test = np.zeros((len(y_test),15))\n",
        "for i in range (14):\n",
        "    TEST = LogisticRegression(random_state=0,C=0.05,solver='newton-cg',penalty='l2',max_iter=10000).fit(X_train, binary_y(y_train,i))\n",
        "    pred = TEST.predict_proba(X_test)\n",
        "    P_test[:,i] = pred[:,1]\n",
        "for i in range (1,14):\n",
        "    P_test[:,i] = P_test[:,i] - np.sum(P_test[:,0:i], axis=1)\n",
        "    P_test[:,14] = 1-np.sum(P_test[:,0:-1],axis=1)\n",
        "    predict = P_test.argmax(axis=1)\n",
        "print('The test accuracy after tuning is: ' +str(accuracy_score(y_test,predict)))"
      ],
      "execution_count": null,
      "outputs": [
        {
          "output_type": "stream",
          "text": [
            "The test accuracy after tuning is: 0.3497959183673469\n"
          ],
          "name": "stdout"
        }
      ]
    },
    {
      "cell_type": "markdown",
      "metadata": {
        "id": "EnT5SgGbagfM",
        "colab_type": "text"
      },
      "source": [
        "### 5.2 Plot the Distribution"
      ]
    },
    {
      "cell_type": "code",
      "metadata": {
        "id": "OpTbLPzEYnfL",
        "colab_type": "code",
        "colab": {
          "base_uri": "https://localhost:8080/",
          "height": 653
        },
        "outputId": "de05d7eb-8b42-42c1-dfcd-05490f4a5ede"
      },
      "source": [
        "plt.figure(figsize=(20,10))\n",
        "plt.hist(predict,histtype='step',label='Predict',bins=14)\n",
        "plt.hist(y_test,histtype='step',label='True',bins=14)\n",
        "plt.xlabel('Salary Bucket',fontsize=20)\n",
        "plt.ylabel('Counts',fontsize=20)\n",
        "plt.legend()\n",
        "plt.title('Comparing the Distribution of Predicted Label and True Label',fontsize=20)"
      ],
      "execution_count": null,
      "outputs": [
        {
          "output_type": "execute_result",
          "data": {
            "text/plain": [
              "Text(0.5, 1.0, 'Comparing the Distribution of Predicted Label and True Label')"
            ]
          },
          "metadata": {
            "tags": []
          },
          "execution_count": 89
        },
        {
          "output_type": "display_data",
          "data": {
            "image/png": "[encoded data removed]",
            "text/plain": [
              "<Figure size 1440x720 with 1 Axes>"
            ]
          },
          "metadata": {
            "tags": []
          }
        }
      ]
    },
    {
      "cell_type": "markdown",
      "metadata": {
        "id": "89F671XgdgZe",
        "colab_type": "text"
      },
      "source": [
        "### 5.3 Discussion\n",
        "The accuracy is 0.366 on training set and 0.35 on testing set. The model's performance on training and testing set are very similar, so the model is not overfit. However, the model is clearly underfit. The accuracy on both training and testing set are low, which means the model cannot predict the label properly. From the plot in section 5.2, we can observe that the model generally predict the salary lower than the actual value. The predicted distribution is more skewed than actual because the model mistakenly labeled too many data points as \"0\". If we want to obtain higher accuracy and overcome the underfitting issue, a more complexed model (other than linear classifier) should be chosen. The model uses ordinary multi-class algorithm, which implements 15 binary classification. Clearly, logistic regression performed very poorly even on simple binary classification. So we can speculate that the data points are not linearly seperable. If we implement some non-linear classifier such as KNN or neural netwrok to train the data, the model accuracy could be better. However, if we use more complexed model, overfitting will become an issue. It's also important to do hyperparameter tuning and cross validation for other algorithms. "
      ]
    },
    {
      "cell_type": "markdown",
      "metadata": {
        "id": "Ut3eidOsDPkL",
        "colab_type": "text"
      },
      "source": [
        "[1] https://www.cs.princeton.edu/courses/archive/spring10/cos424/slides/18-feat.pdf"
      ]
    }
  ]
}